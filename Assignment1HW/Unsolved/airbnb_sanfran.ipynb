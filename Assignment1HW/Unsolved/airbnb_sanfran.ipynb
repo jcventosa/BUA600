{
 "cells": [
  {
   "cell_type": "markdown",
   "metadata": {},
   "source": [
    "<a id=\"overview\"></a>\n",
    "\n",
    "# Evaluating Airbnbs in Asheville\n",
    "\n",
    "\n",
    "## Overview\n",
    "\n",
    "You have just been hired by a real estate company in San Francisco, California. They are trying to enter the short-term rental market by listing several of their properties on Airbnb.com and they have hired you to help inform their direction and marketing. You have a few questions about how Airbnb listings perform, based on factors such as: number of bedrooms, bathrooms, and amenities.\n",
    "\n",
    "When choosing Airbnb listings, what are the factors that go into a typical consumer decision-making process? Can we decompose this process by looking at the data? We can begin to estimate consumer interests by asking questions of the data, such as: How many bathrooms does the rental property have? It is a yurt, a cottage, or a mansion? How much is the nightly fee? What amenities are provided?\n",
    "\n",
    "Your task is to import raw data, clean the data, and provide insights to your real estate client, based on the available sample data and structured questions below. They are looking to you to provide programmatic insights based on your new Python skills!\n",
    "\n",
    "**Expected Time to complete: 4-8 hours**\n",
    "\n",
    "\n",
    "## Objectives\n",
    "This assignment will provide you with a chance to:\n",
    "\n",
    "1. Read/write CSV files using Python's built-in `csv` module.\n",
    "1. Clean and transform raw data from a csv into `lists` and `dicts`.\n",
    "\n",
    "\n",
    "## Problem\n",
    "\n",
    "Your goal is to filter the data and perform some basic analysis, looking to glean market insights and answer questions such as: \n",
    "\n",
    "- What is the most frequently offered amenity in San Francisco?\n",
    "- What is the average cost of listings that match a certain criteria?\n",
    "\n",
    "## Structure\n",
    "\n",
    "This notebook walks through Pythonic data analysis in different stages: \n",
    "\n",
    "- **Required:** This section covers classroom topics from Unit 1 and is _required_. \n",
    "- **Advanced:** This section covers upcoming topics from future Units and is _optional_.\n",
    "\n",
    "Throughout the notebook, you will see clearly labeled sections setting up questions for you to solve. _You must provide answers to all of the questions in the **Required** section._ Note that some questions have been further divided up into \"Part 1\", \"Part 2\", (etc) in order to break down the steps of sequential logic used in Python programming. Please attempt answers for all parts.\n",
    "\n",
    "For those of you who wish to work ahead or want to come back later for more practice, the **Advanced** section offers additional prompts that will extend your analysis. This section is optional; you do not need to complete these for submission. Depending on the discretion of your section instructor, these questions may be worth bonus points.\n",
    "\n",
    "Finally, the **Challenge** section provides an additional set of real-world prompts and examples that integrate new programming concepts and Python libraries not covered in this class. Challenge questions are intended to help you explore and continue your learning outside of this course! _You do not need to complete Challenge questions._\n",
    "\n",
    "\n",
    "## Instructions\n",
    "\n",
    "1. Open the assignment notebook. \n",
    "1. Save a copy of your notebook and retitle it: \"yourname_assignment.ipynb\"\n",
    "1. Attempt answers for all **Required questions**. Some questions can be solved in many different ways!\n",
    "1. Include at least one comment per question explaining your logic or approach. To include a comment in your Python code, use the `#` sign.\n",
    "1. Make sure to include all work within your Jupyter notebook.\n",
    "1. Submit answers for the **Required questions** to your instructional team by the due date.\n",
    "1. Have fun!\n",
    "\n",
    "## Data \n",
    "\n",
    "[Our data](./data/sanfran_airbnb.csv) is a truncated subset of data taken from [Inside Airbnb](http://insideairbnb.com). You'll see twelve columns:\n",
    "\n",
    "- `id` - A unique identifier of the Airbnb\n",
    "- `listing_url` - The URL to the Airbnb\n",
    "- `name` - The name of the listing\n",
    "- `host_id` - A unique identifier for the host\n",
    "- `host_name` - The name of the host\n",
    "- `host_is_superhost` - A boolean stating whether or not the host is a superhost\n",
    "- `neighbourhood_cleansed` - Identifies the neighborhood of the city the listing is in\n",
    "- `accomodates` - How many people the listing can house\n",
    "- `bedrooms` - The reported number of bedrooms\n",
    "- `bathrooms` - The reported number of bathrooms\n",
    "- `amenities` - A list of the amenities that the listing offers\n",
    "- `price` - The nightly fee of the listing (before cleaning fees)"
   ]
  },
  {
   "cell_type": "code",
   "execution_count": 1,
   "metadata": {
    "ExecuteTime": {
     "end_time": "2019-08-15T16:55:09.030350Z",
     "start_time": "2019-08-15T16:55:09.023717Z"
    }
   },
   "outputs": [],
   "source": [
    "# Import the csv module\n",
    "import csv"
   ]
  },
  {
   "cell_type": "markdown",
   "metadata": {},
   "source": [
    "---\n",
    "\n",
    "# REQUIRED / GRADED\n",
    "> **Required:** This section covers classroom topics from Unit 1 and is _required_. \n",
    "\n",
    "In this section of the notebook, you'll begin your analysis by importing and inspecting the data with Python. Make sure to complete questions 1-5. \n",
    "\n",
    "Ready, set, go!\n"
   ]
  },
  {
   "cell_type": "markdown",
   "metadata": {},
   "source": [
    "---\n",
    "\n",
    "## Question 1\n",
    "\n",
    "- **Part 1**: First, you'll need to load the `sanfran_airbnb` CSV from your local files. Alternatively, you can also [click here to access the data online](https://gist.github.com/jeff-boykin/2879dcf8936e42f2d0ef5c7c39b4da70).  \n",
    "\n",
    "> Our data is a truncated subset of data taken from [Inside Airbnb](http://insideairbnb.com/asheville/). The original set contains extra columns which have been removed for this assignment.\n",
    "\n",
    "> Hint: The delimiter for this file is a *tab* character, which can be passed into the `csv.reader` as `csv.reader(csvfile, delimiter='\\t')`\n",
    "\n",
    "\n",
    "- **Part 2**: Next, create a list called `column_names` that holds the column names from the csv. \n",
    "\n",
    "> Hint: There should be 10 columns, total. For example: `columns_names == ['id', 'listing_url', ....]`\n",
    "\n",
    "\n",
    "- **Part 3**: Now create a list called `listings` that holds each listing as it's own list. There should be 6,346 total. For example, `listings[0]` will be:\n",
    "\n",
    "```\n",
    "['958', 'https://www.airbnb.com/rooms/958', 'Bright, Modern Garden Unit - 1BR/1BTH', '1169', 'Holly', 't', 'Western Addition', '3', '1', '1', '[\"Heating\", \"Hot water\", \"Stove\", \"Iron\", \"Dryer\", \"Coffee maker\", \"Carbon monoxide alarm\", \"Pack \\\\u2019n Play/travel crib\", \"Private entrance\", \"Microwave\", \"Hangers\", \"Essentials\", \"Laptop-friendly workspace\", \"First aid kit\", \"Smoke alarm\", \"Refrigerator\", \"Wifi\", \"Cooking basics\", \"Shampoo\", \"TV\", \"Dishes and silverware\", \"Room-darkening shades\", \"Garden or backyard\", \"Hair dryer\", \"Kitchen\", \"Washer\", \"Keypad\", \"Cable TV\", \"Oven\", \"Free street parking\"]', '$132.00 ']\n",
    "\n",
    "```\n",
    "\n",
    "#### Need Help?\n",
    "\n",
    "- [Click here for an explanation of Python data types](https://www.geeksforgeeks.org/python-set-3-strings-lists-tuples-iterations/).\n",
    "- [For examples of Python lists, click here](https://www.w3schools.com/python/python_lists.asp).\n",
    "- [For help reading and writing CSV files in Python, click here](https://www.w3schools.com/python/python_file_write.asp).\n",
    "\n",
    "\n",
    "> Quick note on the amenity: `translation missing: en.hosting_amenity_XX`. Airbnb has to translate each amenity into as many languages as it can in order to provide their services across multiple geographic regions. In order to do this, each amenity is assigned an English translation and served up to us when we view the site in English. When we see things like `translation missing: en.hosting_amenity_49`, that implies that there is some amenity for which there is no suitable translation or available option."
   ]
  },
  {
   "cell_type": "code",
   "execution_count": 2,
   "metadata": {},
   "outputs": [],
   "source": [
    "# Enter your solution for Q1, Part 1\n",
    "\n",
    "# Load the necessary modules\n",
    "import os\n",
    "import csv\n",
    "\n",
    "# Load the sanfran_airbnb data\n",
    "csvpath = os.path.join(\"data\",\"sanfran_airbnb.csv\")\n",
    "with open(csvpath, newline = \"\") as datafile:\n",
    "    # Checking the sanfran_airbnb.csv file showed delimiter = \",\"\n",
    "    csvreader = csv.reader(datafile, delimiter = \",\")\n",
    "    csv_header = next(csvreader)"
   ]
  },
  {
   "cell_type": "code",
   "execution_count": 3,
   "metadata": {},
   "outputs": [],
   "source": [
    "# Enter your solution for Q1, Part 2\n",
    "\n",
    "# Create list called column_names to contain the headers in the sanfran_airbnb.csv\n",
    "column_names = [\"id\", \"listing_url\",\"name\",\"host_id\",\"host_name\",\n",
    "                \"host_is_superhost\", \"neighbourhood_cleansed\",\"accomodates\",\n",
    "                \"bathrooms\",\"bedrooms\",\"amenities\",\"price\"]\n"
   ]
  },
  {
   "cell_type": "code",
   "execution_count": 4,
   "metadata": {},
   "outputs": [
    {
     "data": {
      "text/plain": [
       "6346"
      ]
     },
     "execution_count": 4,
     "metadata": {},
     "output_type": "execute_result"
    }
   ],
   "source": [
    "# Enter your solution for Q1, Part 3\n",
    "\n",
    "# Create list called listings that contains each listing as its own list\n",
    "# First create an empty list called listings\n",
    "listings = []\n",
    "\n",
    "# Next populate the listings list by first openning the sanfran_airbnb file\n",
    "csvpath = os.path.join(\"data\",\"sanfran_airbnb.csv\")\n",
    "with open(csvpath, newline = \"\") as datafile:\n",
    "    # sanfran_airbnb uses a comma as its delimiter = ','\n",
    "    csvreader = csv.reader(datafile, delimiter = \",\")\n",
    "    # skip the header\n",
    "    csv_header = next(csvreader)\n",
    "    \n",
    "    # populate the listings list with each row after the header\n",
    "    for row in csvreader:\n",
    "        listings.append(row)\n",
    "\n",
    "# Check the number of items in listing to make sure it matches 6,346 rows.        \n",
    "len(listings)\n"
   ]
  },
  {
   "cell_type": "code",
   "execution_count": 5,
   "metadata": {
    "ExecuteTime": {
     "end_time": "2019-08-15T16:55:09.130049Z",
     "start_time": "2019-08-15T16:55:09.120918Z"
    }
   },
   "outputs": [
    {
     "name": "stdout",
     "output_type": "stream",
     "text": [
      "['id', 'listing_url', 'name', 'host_id', 'host_name', 'host_is_superhost', 'neighbourhood_cleansed', 'accomodates', 'bathrooms', 'bedrooms', 'amenities', 'price']\n"
     ]
    }
   ],
   "source": [
    "# Print out the column names\n",
    "print(column_names)"
   ]
  },
  {
   "cell_type": "markdown",
   "metadata": {},
   "source": [
    "---\n",
    "\n",
    "## Question 2\n",
    "\n",
    "Next, answer the following questions using the `listings` variable:\n",
    "\n",
    "- **Part 1**. Print the first listing\n",
    "- **Part 2**. Print the 100th listing\n",
    "- **Part 3**. Print the price of the 100th listing *without* printing the rest of the listing information!\n",
    "\n",
    "> Hint: [Here are some examples on how to print in Python](https://www.w3schools.com/python/ref_func_print.asp) "
   ]
  },
  {
   "cell_type": "code",
   "execution_count": 6,
   "metadata": {},
   "outputs": [
    {
     "name": "stdout",
     "output_type": "stream",
     "text": [
      "['958', 'https://www.airbnb.com/rooms/958', 'Bright, Modern Garden Unit - 1BR/1BTH', '1169', 'Holly', 't', 'Western Addition', '3', '1', '1', '\"Heating\",\"Hot water\",\"Stove\",\"Iron\",\"Dryer\",\"Coffee maker\",\"Carbon monoxide alarm\",\"Pack \\\\u2019n Play/travel crib\",\"Private entrance\",\"Microwave\",\"Hangers\",\"Essentials\",\"Laptop-friendly workspace\",\"First aid kit\",\"Smoke alarm\",\"Refrigerator\",\"Wifi\",\"Cooking basics\",\"Shampoo\",\"TV\",\"Dishes and silverware\",\"Room-darkening shades\",\"Garden or backyard\",\"Hair dryer\",\"Kitchen\",\"Washer\",\"Keypad\",\"Cable TV\",\"Oven\",\"Free street parking\"', '$132.00 ']\n"
     ]
    }
   ],
   "source": [
    "# Enter your solution for Q2, Part 1\n",
    "\n",
    "# Print the first listing\n",
    "print(listings[0])"
   ]
  },
  {
   "cell_type": "code",
   "execution_count": 7,
   "metadata": {},
   "outputs": [
    {
     "name": "stdout",
     "output_type": "stream",
     "text": [
      "['137672', 'https://www.airbnb.com/rooms/137672', 'Charming Private Room in Cozy Apt', '673098', 'Elizabeth', 'f', 'Inner Sunset', '2', '1.5', '1', '\"Host greets you\",\"Long term stays allowed\",\"Heating\",\"Kitchen\",\"Breakfast\",\"Luggage dropoff allowed\",\"Wifi\",\"Washer\",\"Iron\",\"Cable TV\",\"Dryer\",\"TV\",\"Hangers\",\"Laptop-friendly workspace\"', '$150.00 ']\n"
     ]
    }
   ],
   "source": [
    "# Enter your solution for Q2, Part 2\n",
    "\n",
    "# Print the 100th listing\n",
    "print(listings[99])"
   ]
  },
  {
   "cell_type": "code",
   "execution_count": 8,
   "metadata": {},
   "outputs": [
    {
     "name": "stdout",
     "output_type": "stream",
     "text": [
      "$150.00 \n"
     ]
    }
   ],
   "source": [
    "# Enter your solution for Q2, Part 3\n",
    "\n",
    "# Print only the price for the 100th listing\n",
    "print(listings[99][11])"
   ]
  },
  {
   "cell_type": "markdown",
   "metadata": {},
   "source": [
    "---\n",
    "\n",
    "### Tutorial\n",
    "\n",
    "Before we get to Question 3, let's first look at at a few ways we can manipulate string data in Python."
   ]
  },
  {
   "cell_type": "code",
   "execution_count": 9,
   "metadata": {
    "ExecuteTime": {
     "end_time": "2019-08-15T16:55:09.177297Z",
     "start_time": "2019-08-15T16:55:09.167943Z"
    }
   },
   "outputs": [
    {
     "name": "stdout",
     "output_type": "stream",
     "text": [
      "40,123.00\n",
      "$40123.00\n",
      "40123.00\n"
     ]
    }
   ],
   "source": [
    "# Here are some examples using a `.replace` function with string data (this will come in handy for the next question)!\n",
    "\n",
    "# Example: `str.replace(item_to_replace, item_to_replace_with)`\n",
    "# This will return: `str`\n",
    "\n",
    "print(\"$40,123.00\".replace('$', ''))  # removes the dollar sign\n",
    "print(\"$40,123.00\".replace(',', ''))  # removes the comma\n",
    "print(\"$40,123.00\".replace('$', '').replace(',', ''))  # removes the dollar sign and the comma\n"
   ]
  },
  {
   "cell_type": "code",
   "execution_count": 10,
   "metadata": {
    "ExecuteTime": {
     "end_time": "2019-08-15T16:55:09.187313Z",
     "start_time": "2019-08-15T16:55:09.179685Z"
    }
   },
   "outputs": [
    {
     "name": "stdout",
     "output_type": "stream",
     "text": [
      "['a', 'b', 'c', 'd']\n",
      "['a', 'b', 'c', 'd']\n",
      "['a', 'b', 'c', 'd']\n"
     ]
    }
   ],
   "source": [
    "# And here are some examples of the `.split` functionality with strings. Take a look and then proceed to Question 3 when you're ready!\n",
    "\n",
    "# Example: `str.split(delimiter)`\n",
    "# Returns: `list`\n",
    "\n",
    "print(\"a,b,c,d\".split(','))  # split by comma\n",
    "print(\"a;b;c;d\".split(';'))  # split by semi-colon\n",
    "print(\"a; b; c; d\".split('; '))  # split by semi-colon and a space\n"
   ]
  },
  {
   "cell_type": "markdown",
   "metadata": {},
   "source": [
    "---\n",
    "\n",
    "## Question 3\n",
    "\n",
    "Create a list called `parsed_listings` that contains the original listings as its elements - but with the following changes:\n",
    "\n",
    "    - First, change the 4th item (amenities) to be a list of strings (this one is a bit tricky). \n",
    "> Hint, you may have to remove the `\"`, `}`, and the `{` characters and then split the string by the comma.   \n",
    "    \n",
    "    - Second, change the 5th item (price) to be a float.\n",
    "> Try using `.replace` to remove a few bad characters from your floats\n",
    "\n",
    "    - Third, change the 6th item (bedrooms) to be a float.\n",
    "    - Fourth, change the 7th item (bathrooms) to be a float.\n",
    "\n",
    "> Note that the elements of `parsed_listings` should still be lists themselves (in other words, they should hold the listings' same characteristics). [Click here to learn more about working with different Python data types](https://www.w3schools.com/python/python_datatypes.asp).\n",
    "\n",
    "    - Fifth and finally, try using a `for` loop to accomplish this. When you're done, the first element (`parsed_listing[0]`) should look like:\n",
    "\n",
    "```\n",
    "['958',\n",
    " 'https://www.airbnb.com/rooms/958',\n",
    " 'Bright, Modern Garden Unit - 1BR/1BTH',\n",
    " '1169',\n",
    " 'Holly',\n",
    " 't',\n",
    " 'Western Addition',\n",
    " 3.0,\n",
    " 1.0,\n",
    " 1.0,\n",
    " ['[Heating',\n",
    "  ' Hot water',\n",
    "  ' Stove',\n",
    "  ' Iron',\n",
    "  ' Dryer',\n",
    "  ' Coffee maker',\n",
    "  ' Carbon monoxide alarm',\n",
    "  ' Pack \\\\u2019n Play/travel crib',\n",
    "  ' Private entrance',\n",
    "  ' Microwave',\n",
    "  ' Hangers',\n",
    "  ' Essentials',\n",
    "  ' Laptop-friendly workspace',\n",
    "  ' First aid kit',\n",
    "  ' Smoke alarm',\n",
    "  ' Refrigerator',\n",
    "  ' Wifi',\n",
    "  ' Cooking basics',\n",
    "  ' Shampoo',\n",
    "  ' TV',\n",
    "  ' Dishes and silverware',\n",
    "  ' Room-darkening shades',\n",
    "  ' Garden or backyard',\n",
    "  ' Hair dryer',\n",
    "  ' Kitchen',\n",
    "  ' Washer',\n",
    "  ' Keypad',\n",
    "  ' Cable TV',\n",
    "  ' Oven',\n",
    "  ' Free street parking]'],\n",
    " 132.0]\n",
    "```\n",
    "\n",
    "> Note: A more advanced method would be to use a [list comprehension](https://docs.python.org/3/tutorial/datastructures.html) to accomplish this."
   ]
  },
  {
   "cell_type": "code",
   "execution_count": 22,
   "metadata": {},
   "outputs": [],
   "source": [
    "# Enter your solution for Q3\n",
    "\n",
    "# Create a list called parsed_listings to contain modifications of the original listings as elements\n",
    "# First create an empty list named parsed_listings.\n",
    "parsed_listings = []\n",
    "\n",
    "# Create a list of each idex in listings. \n",
    "ID = []\n",
    "listing_url = []\n",
    "name = []\n",
    "host_id = []\n",
    "host_name= []\n",
    "host_is_superhost = []\n",
    "neighborhood_cleansed = []\n",
    "accommodates = []\n",
    "bathrooms = []\n",
    "bedrooms = []\n",
    "amenities = []\n",
    "price = []\n",
    "\n",
    "# Populate the lists above with the appropriate rows in listings\n",
    "for row in listings:\n",
    "    ID.append(row[0])\n",
    "\n",
    "for row in listings:\n",
    "    listing_url.append(row[1])\n",
    "    \n",
    "for row in listings:\n",
    "    name.append(row[2])\n",
    "\n",
    "for row in listings:\n",
    "    host_id.append(row[3])\n",
    "    \n",
    "for row in listings:\n",
    "    host_name.append(row[4])\n",
    "\n",
    "for row in listings:\n",
    "    host_is_superhost.append(row[5])\n",
    "\n",
    "for row in listings:    \n",
    "    neighborhood_cleansed.append(row[6])\n",
    "\n",
    "for row in listings:\n",
    "    accommodates.append(row[7])\n",
    "                         \n",
    "# This index represents bathrooms - convert to a float\n",
    "for row in listings:\n",
    "    bathrooms.append(float(row[8]))\n",
    "                         \n",
    "# This index represents bedrooms - convert to a float\n",
    "for row in listings:\n",
    "    bedrooms.append(float(row[9]))\n",
    "\n",
    "# This index represents amenities - convert from single string to list of strings.\n",
    "for row in listings:\n",
    "    amenities.append(row[10].replace('\"','').split(','))\n",
    "                      \n",
    "# This index represents price - drop the '$' and ',' and convert to a float\n",
    "for row in listings:\n",
    "    price.append(float(row[11].replace('$','').replace(',','')))\n",
    "\n",
    "\n",
    "# Zip the 12 lists above into a tupple. \n",
    "ziplist = zip(ID, listing_url, name, host_id, host_name, host_is_superhost, neighborhood_cleansed, \n",
    "              accommodates, bathrooms, bedrooms, amenities, price)\n",
    "\n",
    "# Then loop each of the items in ziplist to be appended into parsed_listings as lists\n",
    "    \n",
    "for item in ziplist:\n",
    "    parsed_listings.append(list(item))"
   ]
  },
  {
   "cell_type": "code",
   "execution_count": 23,
   "metadata": {
    "ExecuteTime": {
     "end_time": "2019-08-15T16:55:09.270378Z",
     "start_time": "2019-08-15T16:55:09.256206Z"
    }
   },
   "outputs": [
    {
     "data": {
      "text/plain": [
       "['958',\n",
       " 'https://www.airbnb.com/rooms/958',\n",
       " 'Bright, Modern Garden Unit - 1BR/1BTH',\n",
       " '1169',\n",
       " 'Holly',\n",
       " 't',\n",
       " 'Western Addition',\n",
       " '3',\n",
       " 1.0,\n",
       " 1.0,\n",
       " ['Heating',\n",
       "  'Hot water',\n",
       "  'Stove',\n",
       "  'Iron',\n",
       "  'Dryer',\n",
       "  'Coffee maker',\n",
       "  'Carbon monoxide alarm',\n",
       "  'Pack \\\\u2019n Play/travel crib',\n",
       "  'Private entrance',\n",
       "  'Microwave',\n",
       "  'Hangers',\n",
       "  'Essentials',\n",
       "  'Laptop-friendly workspace',\n",
       "  'First aid kit',\n",
       "  'Smoke alarm',\n",
       "  'Refrigerator',\n",
       "  'Wifi',\n",
       "  'Cooking basics',\n",
       "  'Shampoo',\n",
       "  'TV',\n",
       "  'Dishes and silverware',\n",
       "  'Room-darkening shades',\n",
       "  'Garden or backyard',\n",
       "  'Hair dryer',\n",
       "  'Kitchen',\n",
       "  'Washer',\n",
       "  'Keypad',\n",
       "  'Cable TV',\n",
       "  'Oven',\n",
       "  'Free street parking'],\n",
       " 132.0]"
      ]
     },
     "execution_count": 23,
     "metadata": {},
     "output_type": "execute_result"
    }
   ],
   "source": [
    "parsed_listings[0]  # Great!"
   ]
  },
  {
   "cell_type": "markdown",
   "metadata": {},
   "source": [
    "---\n",
    "\n",
    "## Question 4\n",
    "\n",
    "Next, let's dig into price differences between listings with different criteria.\n",
    "\n",
    "- **Part 1**. Begin by creating two lists called `one_bathroom` and `two_bathroom` where the elements fit the following criteria:\n",
    "    - `small_homes_one` should only have listings with less than two bathrooms\n",
    "    - `small_homes_two` should only have listings with more than two bathrooms but less than three\n",
    "    \n",
    "- **Part 2**. What is the average price for each set of listings? \n",
    "\n",
    "- **Part 3**. Finish by printing the number of elements in each list.\n",
    "\n",
    "- **Part 4**. Then create a new list called `small_homes` that only contains listings that have either: \n",
    "    - Exactly 1 bathroom\n",
    "OR\n",
    "    - Less than 2 bathrooms AND exactly 1 bedroom\n",
    "\n",
    "- **Part 5**. Wrap up by printing the number of elements in the list `small_homes`."
   ]
  },
  {
   "cell_type": "code",
   "execution_count": 24,
   "metadata": {},
   "outputs": [
    {
     "name": "stdout",
     "output_type": "stream",
     "text": [
      "small_homes_one average price = 240\n",
      "small_homes_two average price = 378\n",
      "small_homes_one has 4773 listings.\n",
      "small_homes_two has 196 listings.\n"
     ]
    }
   ],
   "source": [
    "# Now you try!\n",
    "# Enter your solution for Q4, Parts 1, 2, and 3\n",
    "# Part 1:\n",
    "#   Create list called small_homes_one\n",
    "small_homes_one = []\n",
    "\n",
    "# Loop through parsed_listings to populate small_homes_one\n",
    "for row in parsed_listings:\n",
    "    # only take listings with < 2 bathrooms\n",
    "    if row[8] < 2.0:\n",
    "        small_homes_one.append(row)\n",
    "        \n",
    "#   Create list called small_homes_two\n",
    "small_homes_two = []\n",
    "\n",
    "# Loop through parsed listings to populate small_homes_two\n",
    "for row in parsed_listings:\n",
    "    # only take listings with more than 2 bathrooms but less than three\n",
    "    if row[8] > 2 and row[8] < 3:\n",
    "        small_homes_two.append(row)\n",
    "\n",
    "# Part 2: What is the average price for each set of listings above.\n",
    "# Create empty list named small_homes_one_prices\n",
    "small_homes_one_prices = []\n",
    "\n",
    "# Iterate through small_homes_one prices to populate small_homes_one_prices\n",
    "for row in small_homes_one:\n",
    "    small_homes_one_prices.append(row[11])\n",
    "\n",
    "#  Calculate and store the average price for small_homes_one into avgprice_small_homes_one \n",
    "avgprice_small_homes_one = round(sum(small_homes_one_prices)/len(small_homes_one_prices))\n",
    "\n",
    "#   Print the average price for small_homes_one\n",
    "print(f'small_homes_one average price = {avgprice_small_homes_one}')\n",
    "\n",
    "# Create empty list named small_homes_tow_prices\n",
    "small_homes_two_prices = []\n",
    "\n",
    "# Iterate through small_homes_two prices to populate small_homes_two_prices\n",
    "for row in small_homes_two:\n",
    "    small_homes_two_prices.append(row[11])\n",
    "    \n",
    "#  Calculate and store the average price for small_homes_one into avgprice_small_homes_two \n",
    "avgprice_small_homes_two = round(sum(small_homes_two_prices)/len(small_homes_two_prices))\n",
    "\n",
    "#   Print the average price for small_homes_two\n",
    "print(f'small_homes_two average price = {avgprice_small_homes_two}')\n",
    "\n",
    "# Part 3: Print the number of elements in each list\n",
    "\n",
    "print(f'small_homes_one has {len(small_homes_one)} listings.')\n",
    "print(f'small_homes_two has {len(small_homes_two)} listings.')"
   ]
  },
  {
   "cell_type": "code",
   "execution_count": 25,
   "metadata": {
    "ExecuteTime": {
     "end_time": "2019-08-15T16:55:09.292898Z",
     "start_time": "2019-08-15T16:55:09.277139Z"
    }
   },
   "outputs": [
    {
     "name": "stdout",
     "output_type": "stream",
     "text": [
      "small_homes has 4563 listings.\n"
     ]
    }
   ],
   "source": [
    "# Now you try!\n",
    "# Enter your solution for Q4, Parts 4 and 5\n",
    "# Part 4: Create a new list called small_homes \n",
    "small_homes = []\n",
    "\n",
    "for row in parsed_listings:\n",
    "    if row[8] == 1.0 or (row[8] < 2 and row[9] == 1.0):\n",
    "        small_homes.append(row)\n",
    "\n",
    "# Part 5: Print the number of elements in small_homes.\n",
    "print(f'small_homes has {len(small_homes)} listings.')"
   ]
  },
  {
   "cell_type": "markdown",
   "metadata": {},
   "source": [
    "---\n",
    "\n",
    "## Question 5\n",
    "\n",
    "\n",
    "- **Part 1**. Now let's create a *dictionary* called `amenities_count`. \n",
    "\n",
    "> Hint: A dictionary uses key/value pairs. For more info on Python dictionaries, [check out this link](https://www.w3schools.com/python/python_dictionaries.asp).\n",
    "\n",
    "For your new `amenities_count` dictionary, make the *keys* of the dictionary equal the amenities listed and the *values* indicate the number of times that amenity appears across every listing.\n",
    "\n",
    "Examples:\n",
    "    - amenities_count['Day bed'] == 7\n",
    "    - amenities_count['Coffee maker'] == 1230\n",
    "    \n",
    "\n",
    "- **Part 2**. Now *iterate* over your new `amenities_count` dictionary to surface the amenity that appears the *most often* across all listings!\n",
    "\n"
   ]
  },
  {
   "cell_type": "code",
   "execution_count": 15,
   "metadata": {},
   "outputs": [
    {
     "ename": "NameError",
     "evalue": "name 'parsed_listings' is not defined",
     "output_type": "error",
     "traceback": [
      "\u001b[0;31m---------------------------------------------------------------------------\u001b[0m",
      "\u001b[0;31mNameError\u001b[0m                                 Traceback (most recent call last)",
      "\u001b[0;32m<ipython-input-15-b3d16834b9cd>\u001b[0m in \u001b[0;36m<module>\u001b[0;34m\u001b[0m\n\u001b[1;32m      1\u001b[0m \u001b[0mamenities_list\u001b[0m \u001b[0;34m=\u001b[0m \u001b[0;34m[\u001b[0m\u001b[0;34m]\u001b[0m\u001b[0;34m\u001b[0m\u001b[0;34m\u001b[0m\u001b[0m\n\u001b[0;32m----> 2\u001b[0;31m \u001b[0;32mfor\u001b[0m \u001b[0mrow\u001b[0m \u001b[0;32min\u001b[0m \u001b[0mparsed_listings\u001b[0m\u001b[0;34m:\u001b[0m\u001b[0;34m\u001b[0m\u001b[0;34m\u001b[0m\u001b[0m\n\u001b[0m\u001b[1;32m      3\u001b[0m     \u001b[0mamenities_list\u001b[0m\u001b[0;34m.\u001b[0m\u001b[0mappend\u001b[0m\u001b[0;34m(\u001b[0m\u001b[0mrow\u001b[0m\u001b[0;34m[\u001b[0m\u001b[0;36m10\u001b[0m\u001b[0;34m]\u001b[0m\u001b[0;34m)\u001b[0m\u001b[0;34m\u001b[0m\u001b[0;34m\u001b[0m\u001b[0m\n\u001b[1;32m      4\u001b[0m \u001b[0;34m\u001b[0m\u001b[0m\n\u001b[1;32m      5\u001b[0m \u001b[0mlen\u001b[0m\u001b[0;34m(\u001b[0m\u001b[0mamenities_list\u001b[0m\u001b[0;34m)\u001b[0m\u001b[0;34m\u001b[0m\u001b[0;34m\u001b[0m\u001b[0m\n",
      "\u001b[0;31mNameError\u001b[0m: name 'parsed_listings' is not defined"
     ]
    }
   ],
   "source": [
    "amenities_list = []\n",
    "for row in parsed_listings:\n",
    "    amenities_list.append(row[10])\n",
    "\n",
    "len(amenities_list)"
   ]
  },
  {
   "cell_type": "code",
   "execution_count": 25,
   "metadata": {},
   "outputs": [],
   "source": [
    "# Now you try!\n",
    "# Enter your solution for Q5, Part 1\n",
    "# Create a dictionary called amenities_count where the keys equal the name of the amenities and\n",
    "# the values indicate the number of times the amenities appear.\n",
    "\n",
    "# Create an empty dictionary called amenities_count\n",
    "amenities_count = {}\n",
    "\n",
    "# Create an empty list to store the amenities taken from parsed_listings row[10]\n",
    "all_amenities = []\n",
    "\n",
    "# Populate all_amenities list with each amenity listed in parsed_listings row[10].\n",
    "for row in parsed_listings:\n",
    "    for item in row[10]:\n",
    "        all_amenities.append(item)\n",
    "        \n",
    "# Loop through the items in the all_amenities list and add each item to the amenities_count dictionary\n",
    "# where the item is the key and the item's count is the value\n",
    "for item in all_amenities:\n",
    "    amenities_count[item] = all_amenities.count(item)\n"
   ]
  },
  {
   "cell_type": "code",
   "execution_count": 26,
   "metadata": {},
   "outputs": [
    {
     "name": "stdout",
     "output_type": "stream",
     "text": [
      "Wifi 6279\n"
     ]
    }
   ],
   "source": [
    "# Now you try!\n",
    "# Enter your solution for Q5, Part 2\n",
    "\n",
    "for key,value in amenities_count.items():\n",
    "        maxvalue = max(amenities_count.values())\n",
    "        if value == maxvalue:\n",
    "            print(key,value)"
   ]
  },
  {
   "cell_type": "markdown",
   "metadata": {},
   "source": [
    "---\n",
    "\n",
    "# ADVANCED \n",
    "\n",
    "> **Advanced:** This section covers mopre complex topics from the previous unit as well as conquering some brand new concepts. These questions are _optional_. \n",
    "\n",
    "## Question 1\n",
    "\n",
    "This dataset has a bunch of properties in it that are ABSURDLY priced ($10000 per night seems a bit high) and are probably priced in this way to deter rentals whilst still keeping the property up. This makes them severe outliers in the dataset and could throw off any analysis we want to make in the future. Let's try to clear this up.\n",
    "\n",
    "- **Part 1.** Create a loop that goes through the original list of properties and places them into a new list from least to most expensive. Then take some time to look through a few of the higher priced properties. This will reveal some strange values. \n",
    "> Note: There are many ways to accomplish this task but we recommend using a new library method called [itemgetter](https://docs.python.org/3/library/operator.html#operator.itemgetter) which was made specifically for this purpose and the [sorted](https://www.w3schools.com/python/ref_func_sorted.asp) function.\n",
    "\n",
    "- **Part 2.** Calculate the median price of the sorted dataset. This will be used in order to determine the quartiles of our dataset.\n",
    "\n",
    "- **Part 3.** Calculate the lower quartile (the data point below which 25% of the observations set)\n",
    "\n",
    "- **Part 4.** Calculate the upper quartile (the data point above which 25% of the observations set)\n",
    "\n",
    "- **Part 5.** Find the interquartile range by subtracting the value of the lower quartile from the value of the upper quartile.\n",
    "\n",
    "- **Part 6.** Find the \"inner fences\" of the data set. To find the inner fences of the data set first multiply the interquartile range by 1.5. Then add the result to the upper quartile and subtract it from the lower quartile. The two values you recieve are the boundries for the dataset's inner fences.\n",
    "> Note: A point that falls outside of this numeric boundry is classified as a *minor outlier*\n",
    "\n",
    "- **Part 7.** Find the \"outer fences\" of the data set. This is done in the same way as uncovering the inner fences, except that the interquartile range is multiplied by 3 instead of 1.5. The result is then added to the upper quartile and subtracted from lower quartile to find the upper and lower boundaries of the outer fence.\n",
    "> Note: A point that falls outside of this numeric boundry is classified as a *major outlier*\n",
    "\n",
    "- **Part 8.** Now it is time to finally clean the dataset! Remove any values from the listings whose prices are outside of the outer fences.\n",
    "\n",
    "- **Part 9.** Finally, let's add a new value to each listing that tells the viewer whether or not the listing is a minor outlier or not."
   ]
  },
  {
   "cell_type": "code",
   "execution_count": 4,
   "metadata": {
    "scrolled": true
   },
   "outputs": [],
   "source": [
    "# Now you try!\n",
    "# Enter your solution for Q1, Part 1\n",
    "\n",
    "# Load the operator module which contains itemgetter function\n",
    "import operator\n",
    "\n",
    "# Sort parsed_listings from least to most expensive and place it into a list called sorted_listings \n",
    "Sorted_listings = sorted(parsed_listings, key=operator.itemgetter(11))\n",
    "\n",
    "# Spot check listing to see if first listing has low price and last listing has high price\n",
    "# Check first price\n",
    "print(Sorted_listings[0][11])\n",
    "# Check last price\n",
    "print(Sorted_listings[-1][11])"
   ]
  },
  {
   "cell_type": "code",
   "execution_count": 5,
   "metadata": {},
   "outputs": [],
   "source": [
    "# Now you try!\n",
    "# Enter your solution for Q1, Part 2\n",
    "\n",
    "# Calculate median price of sorted list.\n",
    "print(f'Sorted_listings has {len(Sorted_listings)} listings')\n",
    "print('To calculate the median price, take the two midpoint prices in Sorted_listings located at midpoint indices...')\n",
    "print(f'{round((len(Sorted_listings)/2)-1)} and {round(len(Sorted_listings)/2)}')\n",
    "\n",
    "# # Take the two prices at the midpoint of Sorted_listings and divide it by 2\n",
    "middle_number1 = Sorted_listings[3172][11]\n",
    "middle_number2 = Sorted_listings[3173][11]\n",
    "median_price = (middle_number1 + middle_number2)/2\n",
    "\n",
    "print(f'The middle price at indices 3172 = ${round(middle_number1,2)}')\n",
    "print(f'The middle price at indices 3173 = ${round(middle_number2,2)}')\n",
    "print(f'Therefore the median price = ${round(median_price,2)}')"
   ]
  },
  {
   "cell_type": "code",
   "execution_count": 6,
   "metadata": {},
   "outputs": [],
   "source": [
    "# Now you try!\n",
    "# Enter your solution for Q1, Part 3, 4, and 5"
   ]
  },
  {
   "cell_type": "code",
   "execution_count": 7,
   "metadata": {},
   "outputs": [],
   "source": [
    "# Now you try!\n",
    "# Enter your solution for Q1, Part 6 and 7"
   ]
  },
  {
   "cell_type": "code",
   "execution_count": 8,
   "metadata": {},
   "outputs": [],
   "source": [
    "# Now you try!\n",
    "# Enter your solution for Q1, Part 8"
   ]
  },
  {
   "cell_type": "code",
   "execution_count": 9,
   "metadata": {},
   "outputs": [],
   "source": [
    "# Now you try!\n",
    "# Enter your solution for Q1, Part 9"
   ]
  },
  {
   "cell_type": "markdown",
   "metadata": {},
   "source": [
    "## Question 2\n",
    "\n",
    "You are working with a client on developing a new a value proposition for their AirBnB properties. This will help your client, a real estate investor, determine which type of properties they should purchase to have the best success on AirBnB.\n",
    "\n",
    "**Part 1.** Create at least three rental market segments based on price and the number of people the property can accommodate.\n",
    "\n",
    "> Note: Market segments refer to clustering a group of people by one of more charactertic. In marketing, it will allow us to develop a specifc targeted strategy for different people based on their needs. In our case, you should segment the rentals based on price and the number of people the property can accommodate. For exmaple, one segment could contain lower priced and smaller properties. This segment could be geared toward a customers that are price sensitive and looking for a deal. Another segment could contain large higher priced properties tailored to customers looking for a place to stay for a family / friend celebration or vacation. \n",
    "\n",
    "**Part 2.** Which room and property type appear the most in each segment?\n",
    "\n",
    "**Part 3.** How many properties contain reviews under 5 in each segment? Remove all rentals with the number of reviews under 5 from each\n",
    "\n",
    "**Part 4.** Which segment should your client consider and why?"
   ]
  },
  {
   "cell_type": "code",
   "execution_count": 3,
   "metadata": {},
   "outputs": [],
   "source": [
    "# Now you try!\n",
    "# Enter your solution for Q2, Part 1"
   ]
  },
  {
   "cell_type": "code",
   "execution_count": 2,
   "metadata": {},
   "outputs": [],
   "source": [
    "# Now you try!\n",
    "# Enter your solution for Q2, Part 2"
   ]
  },
  {
   "cell_type": "code",
   "execution_count": 4,
   "metadata": {},
   "outputs": [],
   "source": [
    "# Now you try!\n",
    "# Enter your solution for Q2, Part 3"
   ]
  },
  {
   "cell_type": "code",
   "execution_count": null,
   "metadata": {},
   "outputs": [],
   "source": [
    "# Now you try!\n",
    "# Enter your solution for Q2, Part 3"
   ]
  }
 ],
 "metadata": {
  "kernelspec": {
   "display_name": "Python 3",
   "language": "python",
   "name": "python3"
  },
  "language_info": {
   "codemirror_mode": {
    "name": "ipython",
    "version": 3
   },
   "file_extension": ".py",
   "mimetype": "text/x-python",
   "name": "python",
   "nbconvert_exporter": "python",
   "pygments_lexer": "ipython3",
   "version": "3.8.3"
  }
 },
 "nbformat": 4,
 "nbformat_minor": 2
}
