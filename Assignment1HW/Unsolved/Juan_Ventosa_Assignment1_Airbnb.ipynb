{
 "cells": [
  {
   "cell_type": "markdown",
   "metadata": {},
   "source": [
    "<a id=\"overview\"></a>\n",
    "\n",
    "# Evaluating Airbnbs in Asheville\n",
    "\n",
    "\n",
    "## Overview\n",
    "\n",
    "You have just been hired by a real estate company in San Francisco, California. They are trying to enter the short-term rental market by listing several of their properties on Airbnb.com and they have hired you to help inform their direction and marketing. You have a few questions about how Airbnb listings perform, based on factors such as: number of bedrooms, bathrooms, and amenities.\n",
    "\n",
    "When choosing Airbnb listings, what are the factors that go into a typical consumer decision-making process? Can we decompose this process by looking at the data? We can begin to estimate consumer interests by asking questions of the data, such as: How many bathrooms does the rental property have? It is a yurt, a cottage, or a mansion? How much is the nightly fee? What amenities are provided?\n",
    "\n",
    "Your task is to import raw data, clean the data, and provide insights to your real estate client, based on the available sample data and structured questions below. They are looking to you to provide programmatic insights based on your new Python skills!\n",
    "\n",
    "**Expected Time to complete: 4-8 hours**\n",
    "\n",
    "\n",
    "## Objectives\n",
    "This assignment will provide you with a chance to:\n",
    "\n",
    "1. Read/write CSV files using Python's built-in `csv` module.\n",
    "1. Clean and transform raw data from a csv into `lists` and `dicts`.\n",
    "\n",
    "\n",
    "## Problem\n",
    "\n",
    "Your goal is to filter the data and perform some basic analysis, looking to glean market insights and answer questions such as: \n",
    "\n",
    "- What is the most frequently offered amenity in San Francisco?\n",
    "- What is the average cost of listings that match a certain criteria?\n",
    "\n",
    "## Structure\n",
    "\n",
    "This notebook walks through Pythonic data analysis in different stages: \n",
    "\n",
    "- **Required:** This section covers classroom topics from Unit 1 and is _required_. \n",
    "- **Advanced:** This section covers upcoming topics from future Units and is _optional_.\n",
    "\n",
    "Throughout the notebook, you will see clearly labeled sections setting up questions for you to solve. _You must provide answers to all of the questions in the **Required** section._ Note that some questions have been further divided up into \"Part 1\", \"Part 2\", (etc) in order to break down the steps of sequential logic used in Python programming. Please attempt answers for all parts.\n",
    "\n",
    "For those of you who wish to work ahead or want to come back later for more practice, the **Advanced** section offers additional prompts that will extend your analysis. This section is optional; you do not need to complete these for submission. Depending on the discretion of your section instructor, these questions may be worth bonus points.\n",
    "\n",
    "Finally, the **Challenge** section provides an additional set of real-world prompts and examples that integrate new programming concepts and Python libraries not covered in this class. Challenge questions are intended to help you explore and continue your learning outside of this course! _You do not need to complete Challenge questions._\n",
    "\n",
    "\n",
    "## Instructions\n",
    "\n",
    "1. Open the assignment notebook. \n",
    "1. Save a copy of your notebook and retitle it: \"yourname_assignment.ipynb\"\n",
    "1. Attempt answers for all **Required questions**. Some questions can be solved in many different ways!\n",
    "1. Include at least one comment per question explaining your logic or approach. To include a comment in your Python code, use the `#` sign.\n",
    "1. Make sure to include all work within your Jupyter notebook.\n",
    "1. Submit answers for the **Required questions** to your instructional team by the due date.\n",
    "1. Have fun!\n",
    "\n",
    "## Data \n",
    "\n",
    "[Our data](./data/sanfran_airbnb.csv) is a truncated subset of data taken from [Inside Airbnb](http://insideairbnb.com). You'll see twelve columns:\n",
    "\n",
    "- `id` - A unique identifier of the Airbnb\n",
    "- `listing_url` - The URL to the Airbnb\n",
    "- `name` - The name of the listing\n",
    "- `host_id` - A unique identifier for the host\n",
    "- `host_name` - The name of the host\n",
    "- `host_is_superhost` - A boolean stating whether or not the host is a superhost\n",
    "- `neighbourhood_cleansed` - Identifies the neighborhood of the city the listing is in\n",
    "- `accomodates` - How many people the listing can house\n",
    "- `bedrooms` - The reported number of bedrooms\n",
    "- `bathrooms` - The reported number of bathrooms\n",
    "- `amenities` - A list of the amenities that the listing offers\n",
    "- `price` - The nightly fee of the listing (before cleaning fees)"
   ]
  },
  {
   "cell_type": "code",
   "execution_count": 1,
   "metadata": {
    "ExecuteTime": {
     "end_time": "2019-08-15T16:55:09.030350Z",
     "start_time": "2019-08-15T16:55:09.023717Z"
    }
   },
   "outputs": [],
   "source": [
    "# Import the csv module\n",
    "import csv"
   ]
  },
  {
   "cell_type": "markdown",
   "metadata": {},
   "source": [
    "---\n",
    "\n",
    "# REQUIRED / GRADED\n",
    "> **Required:** This section covers classroom topics from Unit 1 and is _required_. \n",
    "\n",
    "In this section of the notebook, you'll begin your analysis by importing and inspecting the data with Python. Make sure to complete questions 1-5. \n",
    "\n",
    "Ready, set, go!\n"
   ]
  },
  {
   "cell_type": "markdown",
   "metadata": {},
   "source": [
    "---\n",
    "\n",
    "## Question 1\n",
    "\n",
    "- **Part 1**: First, you'll need to load the `sanfran_airbnb` CSV from your local files. Alternatively, you can also [click here to access the data online](https://gist.github.com/jeff-boykin/2879dcf8936e42f2d0ef5c7c39b4da70).  \n",
    "\n",
    "> Our data is a truncated subset of data taken from [Inside Airbnb](http://insideairbnb.com/asheville/). The original set contains extra columns which have been removed for this assignment.\n",
    "\n",
    "> Hint: The delimiter for this file is a *tab* character, which can be passed into the `csv.reader` as `csv.reader(csvfile, delimiter='\\t')`\n",
    "\n",
    "\n",
    "- **Part 2**: Next, create a list called `column_names` that holds the column names from the csv. \n",
    "\n",
    "> Hint: There should be 10 columns, total. For example: `columns_names == ['id', 'listing_url', ....]`\n",
    "\n",
    "\n",
    "- **Part 3**: Now create a list called `listings` that holds each listing as it's own list. There should be 6,346 total. For example, `listings[0]` will be:\n",
    "\n",
    "```\n",
    "['958', 'https://www.airbnb.com/rooms/958', 'Bright, Modern Garden Unit - 1BR/1BTH', '1169', 'Holly', 't', 'Western Addition', '3', '1', '1', '[\"Heating\", \"Hot water\", \"Stove\", \"Iron\", \"Dryer\", \"Coffee maker\", \"Carbon monoxide alarm\", \"Pack \\\\u2019n Play/travel crib\", \"Private entrance\", \"Microwave\", \"Hangers\", \"Essentials\", \"Laptop-friendly workspace\", \"First aid kit\", \"Smoke alarm\", \"Refrigerator\", \"Wifi\", \"Cooking basics\", \"Shampoo\", \"TV\", \"Dishes and silverware\", \"Room-darkening shades\", \"Garden or backyard\", \"Hair dryer\", \"Kitchen\", \"Washer\", \"Keypad\", \"Cable TV\", \"Oven\", \"Free street parking\"]', '$132.00 ']\n",
    "\n",
    "```\n",
    "\n",
    "#### Need Help?\n",
    "\n",
    "- [Click here for an explanation of Python data types](https://www.geeksforgeeks.org/python-set-3-strings-lists-tuples-iterations/).\n",
    "- [For examples of Python lists, click here](https://www.w3schools.com/python/python_lists.asp).\n",
    "- [For help reading and writing CSV files in Python, click here](https://www.w3schools.com/python/python_file_write.asp).\n",
    "\n",
    "\n",
    "> Quick note on the amenity: `translation missing: en.hosting_amenity_XX`. Airbnb has to translate each amenity into as many languages as it can in order to provide their services across multiple geographic regions. In order to do this, each amenity is assigned an English translation and served up to us when we view the site in English. When we see things like `translation missing: en.hosting_amenity_49`, that implies that there is some amenity for which there is no suitable translation or available option."
   ]
  },
  {
   "cell_type": "code",
   "execution_count": 1,
   "metadata": {},
   "outputs": [
    {
     "name": "stdout",
     "output_type": "stream",
     "text": [
      "The number of listings in listings is 6346\n",
      "['958', 'https://www.airbnb.com/rooms/958', 'Bright, Modern Garden Unit - 1BR/1BTH', '1169', 'Holly', 't', 'Western Addition', '3', '1', '1', '\"Heating\",\"Hot water\",\"Stove\",\"Iron\",\"Dryer\",\"Coffee maker\",\"Carbon monoxide alarm\",\"Pack \\\\u2019n Play/travel crib\",\"Private entrance\",\"Microwave\",\"Hangers\",\"Essentials\",\"Laptop-friendly workspace\",\"First aid kit\",\"Smoke alarm\",\"Refrigerator\",\"Wifi\",\"Cooking basics\",\"Shampoo\",\"TV\",\"Dishes and silverware\",\"Room-darkening shades\",\"Garden or backyard\",\"Hair dryer\",\"Kitchen\",\"Washer\",\"Keypad\",\"Cable TV\",\"Oven\",\"Free street parking\"', '$132.00 ']\n"
     ]
    }
   ],
   "source": [
    "# Enter your solution for Q1, Part 1\n",
    "\n",
    "# Load the os and csv modules in order to load csv files\n",
    "import os\n",
    "import csv\n",
    "\n",
    "# Load the sanfran_airbnb data\n",
    "csvpath = os.path.join(\"data\",\"sanfran_airbnb.csv\")\n",
    "with open(csvpath, newline = \"\") as datafile:\n",
    "    # Checking the sanfran_airbnb.csv file showed delimiter = \",\"\n",
    "    csvreader = csv.reader(datafile, delimiter = \",\")\n",
    "    # Store the first line of the file as csv_header and skip it\n",
    "    csv_header = next(csvreader)\n",
    "\n",
    "# Enter your solution for Q1, Part 2\n",
    "    # Store each item in csv_header and append it to column_names\n",
    "    column_names = [item for item in csv_header] \n",
    "\n",
    "\n",
    "# Enter your solution for Q1, Part 3\n",
    "     # populate the listings list with each row after the header\n",
    "    listings = [row for row in csvreader]\n",
    "#         \n",
    "\n",
    "# Check the number of items in listings to make sure it matches 6,346 rows by printing length of listings.        \n",
    "print(f'The number of listings in listings is {len(listings)}')\n",
    "\n",
    "# Check first row of listings to make sure it matches format above.\n",
    "print(listings[0])\n"
   ]
  },
  {
   "cell_type": "code",
   "execution_count": 2,
   "metadata": {
    "ExecuteTime": {
     "end_time": "2019-08-15T16:55:09.130049Z",
     "start_time": "2019-08-15T16:55:09.120918Z"
    }
   },
   "outputs": [
    {
     "name": "stdout",
     "output_type": "stream",
     "text": [
      "['id', 'listing_url', 'name', 'host_id', 'host_name', 'host_is_superhost', 'neighbourhood_cleansed', 'accommodates', 'bathrooms', 'bedrooms', 'amenities', 'price']\n"
     ]
    }
   ],
   "source": [
    "# Print out the column names\n",
    "print(column_names)"
   ]
  },
  {
   "cell_type": "markdown",
   "metadata": {},
   "source": [
    "---\n",
    "\n",
    "## Question 2\n",
    "\n",
    "Next, answer the following questions using the `listings` variable:\n",
    "\n",
    "- **Part 1**. Print the first listing\n",
    "- **Part 2**. Print the 100th listing\n",
    "- **Part 3**. Print the price of the 100th listing *without* printing the rest of the listing information!\n",
    "\n",
    "> Hint: [Here are some examples on how to print in Python](https://www.w3schools.com/python/ref_func_print.asp) "
   ]
  },
  {
   "cell_type": "code",
   "execution_count": 3,
   "metadata": {},
   "outputs": [
    {
     "name": "stdout",
     "output_type": "stream",
     "text": [
      "['958', 'https://www.airbnb.com/rooms/958', 'Bright, Modern Garden Unit - 1BR/1BTH', '1169', 'Holly', 't', 'Western Addition', '3', '1', '1', '\"Heating\",\"Hot water\",\"Stove\",\"Iron\",\"Dryer\",\"Coffee maker\",\"Carbon monoxide alarm\",\"Pack \\\\u2019n Play/travel crib\",\"Private entrance\",\"Microwave\",\"Hangers\",\"Essentials\",\"Laptop-friendly workspace\",\"First aid kit\",\"Smoke alarm\",\"Refrigerator\",\"Wifi\",\"Cooking basics\",\"Shampoo\",\"TV\",\"Dishes and silverware\",\"Room-darkening shades\",\"Garden or backyard\",\"Hair dryer\",\"Kitchen\",\"Washer\",\"Keypad\",\"Cable TV\",\"Oven\",\"Free street parking\"', '$132.00 ']\n"
     ]
    }
   ],
   "source": [
    "# Enter your solution for Q2, Part 1\n",
    "\n",
    "# Print the first listing\n",
    "print(listings[0])"
   ]
  },
  {
   "cell_type": "code",
   "execution_count": 4,
   "metadata": {},
   "outputs": [
    {
     "name": "stdout",
     "output_type": "stream",
     "text": [
      "['137672', 'https://www.airbnb.com/rooms/137672', 'Charming Private Room in Cozy Apt', '673098', 'Elizabeth', 'f', 'Inner Sunset', '2', '1.5', '1', '\"Host greets you\",\"Long term stays allowed\",\"Heating\",\"Kitchen\",\"Breakfast\",\"Luggage dropoff allowed\",\"Wifi\",\"Washer\",\"Iron\",\"Cable TV\",\"Dryer\",\"TV\",\"Hangers\",\"Laptop-friendly workspace\"', '$150.00 ']\n"
     ]
    }
   ],
   "source": [
    "# Enter your solution for Q2, Part 2\n",
    "\n",
    "# Print the 100th listing\n",
    "print(listings[99])"
   ]
  },
  {
   "cell_type": "code",
   "execution_count": 5,
   "metadata": {},
   "outputs": [
    {
     "name": "stdout",
     "output_type": "stream",
     "text": [
      "$150.00 \n"
     ]
    }
   ],
   "source": [
    "# Enter your solution for Q2, Part 3\n",
    "\n",
    "# Print only the price for the 100th listing\n",
    "print(listings[99][11])"
   ]
  },
  {
   "cell_type": "markdown",
   "metadata": {},
   "source": [
    "---\n",
    "\n",
    "### Tutorial\n",
    "\n",
    "Before we get to Question 3, let's first look at at a few ways we can manipulate string data in Python."
   ]
  },
  {
   "cell_type": "code",
   "execution_count": 6,
   "metadata": {
    "ExecuteTime": {
     "end_time": "2019-08-15T16:55:09.177297Z",
     "start_time": "2019-08-15T16:55:09.167943Z"
    }
   },
   "outputs": [
    {
     "name": "stdout",
     "output_type": "stream",
     "text": [
      "40,123.00\n",
      "$40123.00\n",
      "40123.00\n"
     ]
    }
   ],
   "source": [
    "# Here are some examples using a `.replace` function with string data (this will come in handy for the next question)!\n",
    "\n",
    "# Example: `str.replace(item_to_replace, item_to_replace_with)`\n",
    "# This will return: `str`\n",
    "\n",
    "print(\"$40,123.00\".replace('$', ''))  # removes the dollar sign\n",
    "print(\"$40,123.00\".replace(',', ''))  # removes the comma\n",
    "print(\"$40,123.00\".replace('$', '').replace(',', ''))  # removes the dollar sign and the comma\n"
   ]
  },
  {
   "cell_type": "code",
   "execution_count": 7,
   "metadata": {
    "ExecuteTime": {
     "end_time": "2019-08-15T16:55:09.187313Z",
     "start_time": "2019-08-15T16:55:09.179685Z"
    }
   },
   "outputs": [
    {
     "name": "stdout",
     "output_type": "stream",
     "text": [
      "['a', 'b', 'c', 'd']\n",
      "['a', 'b', 'c', 'd']\n",
      "['a', 'b', 'c', 'd']\n"
     ]
    }
   ],
   "source": [
    "# And here are some examples of the `.split` functionality with strings. Take a look and then proceed to Question 3 when you're ready!\n",
    "\n",
    "# Example: `str.split(delimiter)`\n",
    "# Returns: `list`\n",
    "\n",
    "print(\"a,b,c,d\".split(','))  # split by comma\n",
    "print(\"a;b;c;d\".split(';'))  # split by semi-colon\n",
    "print(\"a; b; c; d\".split('; '))  # split by semi-colon and a space\n"
   ]
  },
  {
   "cell_type": "markdown",
   "metadata": {},
   "source": [
    "---\n",
    "\n",
    "## Question 3\n",
    "\n",
    "Create a list called `parsed_listings` that contains the original listings as its elements - but with the following changes:\n",
    "\n",
    "    - First, change the 4th item (amenities) to be a list of strings (this one is a bit tricky). \n",
    "> Hint, you may have to remove the `\"`, `}`, and the `{` characters and then split the string by the comma.   \n",
    "    \n",
    "    - Second, change the 5th item (price) to be a float.\n",
    "> Try using `.replace` to remove a few bad characters from your floats\n",
    "\n",
    "    - Third, change the 6th item (bedrooms) to be a float.\n",
    "    - Fourth, change the 7th item (bathrooms) to be a float.\n",
    "\n",
    "> Note that the elements of `parsed_listings` should still be lists themselves (in other words, they should hold the listings' same characteristics). [Click here to learn more about working with different Python data types](https://www.w3schools.com/python/python_datatypes.asp).\n",
    "\n",
    "    - Fifth and finally, try using a `for` loop to accomplish this. When you're done, the first element (`parsed_listing[0]`) should look like:\n",
    "\n",
    "```\n",
    "['958',\n",
    " 'https://www.airbnb.com/rooms/958',\n",
    " 'Bright, Modern Garden Unit - 1BR/1BTH',\n",
    " '1169',\n",
    " 'Holly',\n",
    " 't',\n",
    " 'Western Addition',\n",
    " 3.0,\n",
    " 1.0,\n",
    " 1.0,\n",
    " ['[Heating',\n",
    "  ' Hot water',\n",
    "  ' Stove',\n",
    "  ' Iron',\n",
    "  ' Dryer',\n",
    "  ' Coffee maker',\n",
    "  ' Carbon monoxide alarm',\n",
    "  ' Pack \\\\u2019n Play/travel crib',\n",
    "  ' Private entrance',\n",
    "  ' Microwave',\n",
    "  ' Hangers',\n",
    "  ' Essentials',\n",
    "  ' Laptop-friendly workspace',\n",
    "  ' First aid kit',\n",
    "  ' Smoke alarm',\n",
    "  ' Refrigerator',\n",
    "  ' Wifi',\n",
    "  ' Cooking basics',\n",
    "  ' Shampoo',\n",
    "  ' TV',\n",
    "  ' Dishes and silverware',\n",
    "  ' Room-darkening shades',\n",
    "  ' Garden or backyard',\n",
    "  ' Hair dryer',\n",
    "  ' Kitchen',\n",
    "  ' Washer',\n",
    "  ' Keypad',\n",
    "  ' Cable TV',\n",
    "  ' Oven',\n",
    "  ' Free street parking]'],\n",
    " 132.0]\n",
    "```\n",
    "\n",
    "> Note: A more advanced method would be to use a [list comprehension](https://docs.python.org/3/tutorial/datastructures.html) to accomplish this."
   ]
  },
  {
   "cell_type": "code",
   "execution_count": 8,
   "metadata": {},
   "outputs": [],
   "source": [
    "# Enter your solution for Q3\n",
    "\n",
    "# Create a list called parsed_listings to contain modifications of the original listings as elements\n",
    "# First create an empty list named parsed_listings.\n",
    "parsed_listings = []\n",
    "\n",
    "# Create a list of each idex in listings. \n",
    "ID = [row[0] for row in listings]\n",
    "listing_url = [row[1] for row in listings]\n",
    "name = [row[2] for row in listings]\n",
    "host_id = [row[3] for row in listings]\n",
    "host_name= [row[4] for row in listings]\n",
    "host_is_superhost = [row[5] for row in listings]\n",
    "neighborhood_cleansed = [row[6] for row in listings]\n",
    "# This index represents accommodates - convert to an integer\n",
    "accommodates = [int(row[7]) for row in listings]\n",
    "# This index represents bathrooms - convert to a float\n",
    "bathrooms = [float(row[8]) for row in listings]\n",
    "# This index represents bedrooms - convert to a float\n",
    "bedrooms = [float(row[9]) for row in listings]\n",
    "# This index represents amenities - convert from single string to list of strings.\n",
    "amenities = [(row[10]).replace('\"','').split(',') for row in listings]\n",
    "# This index represents price - drop the '$' and ',' and convert to a float\n",
    "price = [float(row[11].replace('$','').replace(',','')) for row in listings]\n",
    "\n",
    "# Zip the 12 lists above into a tupple. \n",
    "# Then loop each of the items in the zip to be appended into parsed_listings as lists\n",
    "for item in zip(ID, listing_url, name, host_id, host_name, host_is_superhost, neighborhood_cleansed,\n",
    "                     accommodates, bathrooms, bedrooms, amenities, price): \n",
    "    parsed_listings.append(list(item))\n",
    "   "
   ]
  },
  {
   "cell_type": "code",
   "execution_count": 9,
   "metadata": {
    "ExecuteTime": {
     "end_time": "2019-08-15T16:55:09.270378Z",
     "start_time": "2019-08-15T16:55:09.256206Z"
    }
   },
   "outputs": [
    {
     "data": {
      "text/plain": [
       "['958',\n",
       " 'https://www.airbnb.com/rooms/958',\n",
       " 'Bright, Modern Garden Unit - 1BR/1BTH',\n",
       " '1169',\n",
       " 'Holly',\n",
       " 't',\n",
       " 'Western Addition',\n",
       " 3,\n",
       " 1.0,\n",
       " 1.0,\n",
       " ['Heating',\n",
       "  'Hot water',\n",
       "  'Stove',\n",
       "  'Iron',\n",
       "  'Dryer',\n",
       "  'Coffee maker',\n",
       "  'Carbon monoxide alarm',\n",
       "  'Pack \\\\u2019n Play/travel crib',\n",
       "  'Private entrance',\n",
       "  'Microwave',\n",
       "  'Hangers',\n",
       "  'Essentials',\n",
       "  'Laptop-friendly workspace',\n",
       "  'First aid kit',\n",
       "  'Smoke alarm',\n",
       "  'Refrigerator',\n",
       "  'Wifi',\n",
       "  'Cooking basics',\n",
       "  'Shampoo',\n",
       "  'TV',\n",
       "  'Dishes and silverware',\n",
       "  'Room-darkening shades',\n",
       "  'Garden or backyard',\n",
       "  'Hair dryer',\n",
       "  'Kitchen',\n",
       "  'Washer',\n",
       "  'Keypad',\n",
       "  'Cable TV',\n",
       "  'Oven',\n",
       "  'Free street parking'],\n",
       " 132.0]"
      ]
     },
     "execution_count": 9,
     "metadata": {},
     "output_type": "execute_result"
    }
   ],
   "source": [
    "(parsed_listings[0]) # Great!"
   ]
  },
  {
   "cell_type": "markdown",
   "metadata": {},
   "source": [
    "---\n",
    "\n",
    "## Question 4\n",
    "\n",
    "Next, let's dig into price differences between listings with different criteria.\n",
    "\n",
    "- **Part 1**. Begin by creating two lists called `one_bathroom` and `two_bathroom` where the elements fit the following criteria:\n",
    "    - `small_homes_one` should only have listings with less than two bathrooms\n",
    "    - `small_homes_two` should only have listings with more than two bathrooms but less than three\n",
    "    \n",
    "- **Part 2**. What is the average price for each set of listings? \n",
    "\n",
    "- **Part 3**. Finish by printing the number of elements in each list.\n",
    "\n",
    "- **Part 4**. Then create a new list called `small_homes` that only contains listings that have either: \n",
    "    - Exactly 1 bathroom\n",
    "OR\n",
    "    - Less than 2 bathrooms AND exactly 1 bedroom\n",
    "\n",
    "- **Part 5**. Wrap up by printing the number of elements in the list `small_homes`."
   ]
  },
  {
   "cell_type": "code",
   "execution_count": 11,
   "metadata": {},
   "outputs": [
    {
     "name": "stdout",
     "output_type": "stream",
     "text": [
      "Average Price of listings for small homes one = 240.36\n",
      "Average Price of listings for small homes two = 378.42\n",
      "Small homes one has 4773 listings.\n",
      "Small homes two has 196 listings.\n"
     ]
    }
   ],
   "source": [
    "# Enter your solution for Q4, Parts 1, 2, and 3\n",
    "# Part 1:\n",
    "#   Create list called small_homes_one that contains only listings with < 2 bathrooms\n",
    "small_homes_one = [row for row in parsed_listings if row[8] < 2.0]\n",
    "\n",
    "#   Create list called small_homes_two that contains only listings with > 2 bathrooms but < 3 bathrooms\n",
    "small_homes_two = [row for row in parsed_listings if 2.0 < row[8] < 3.0]\n",
    "\n",
    "# Part 2: \n",
    "#  What is the average price for each set of listings above.\n",
    "\n",
    "#   Store the prices in small_homes_one and small_homes_two into their own separate lists\n",
    "#   called small_homes_one_prices and small_homes_two_prices\n",
    "small_homes_one_prices = [price[11] for price in small_homes_one]\n",
    "small_homes_two_prices = [price[11] for price in small_homes_two]\n",
    "\n",
    "#   Calculate and store the average price in small_homes_one_prices and small_homes_two_prices into\n",
    "#   avgprice_small_homes_one and avgprice_small_homes_two respectively.\n",
    "avgprice_small_homes_one = round(sum(small_homes_one_prices)/len(small_homes_one_prices),2)\n",
    "avgprice_small_homes_two = round(sum(small_homes_two_prices)/len(small_homes_two_prices),2)\n",
    "\n",
    "#   Print the average price for small_homes_one and small_homes_two\n",
    "print(f'Average Price of listings for small homes one = {avgprice_small_homes_one}')\n",
    "print(f'Average Price of listings for small homes two = {avgprice_small_homes_two}')\n",
    "\n",
    "# Part 3: Finish by printing the number of elements in each list\n",
    "\n",
    "print(f'Small homes one has {len(small_homes_one)} listings.')\n",
    "print(f'Small homes two has {len(small_homes_two)} listings.')"
   ]
  },
  {
   "cell_type": "code",
   "execution_count": 12,
   "metadata": {
    "ExecuteTime": {
     "end_time": "2019-08-15T16:55:09.292898Z",
     "start_time": "2019-08-15T16:55:09.277139Z"
    }
   },
   "outputs": [
    {
     "name": "stdout",
     "output_type": "stream",
     "text": [
      "small_homes has 4563 listings.\n"
     ]
    }
   ],
   "source": [
    "# Enter your solution for Q4, Parts 4 and 5\n",
    "# Part 4: Create a new list called small_homes that contains listings with exactly one bathroom \n",
    "#        or have less than 2 bathrooms and exactly 1 bedroom\n",
    "small_homes = [row for row in parsed_listings if row[8] == 1.0 or (row[8] < 2 and row[9] == 1.0)]\n",
    "\n",
    "# Part 5: Wrap up by printing the number of elements in small_homes.\n",
    "print(f'small_homes has {len(small_homes)} listings.')"
   ]
  },
  {
   "cell_type": "markdown",
   "metadata": {},
   "source": [
    "---\n",
    "\n",
    "## Question 5\n",
    "\n",
    "\n",
    "- **Part 1**. Now let's create a *dictionary* called `amenities_count`. \n",
    "\n",
    "> Hint: A dictionary uses key/value pairs. For more info on Python dictionaries, [check out this link](https://www.w3schools.com/python/python_dictionaries.asp).\n",
    "\n",
    "For your new `amenities_count` dictionary, make the *keys* of the dictionary equal the amenities listed and the *values* indicate the number of times that amenity appears across every listing.\n",
    "\n",
    "Examples:\n",
    "    - amenities_count['Day bed'] == 7\n",
    "    - amenities_count['Coffee maker'] == 1230\n",
    "    \n",
    "\n",
    "- **Part 2**. Now *iterate* over your new `amenities_count` dictionary to surface the amenity that appears the *most often* across all listings!\n",
    "\n"
   ]
  },
  {
   "cell_type": "markdown",
   "metadata": {},
   "source": [
    "\n",
    "\n",
    "## Note the code below took nearly 6 minutes to complete on my computer -- JV\n"
   ]
  },
  {
   "cell_type": "code",
   "execution_count": 10,
   "metadata": {},
   "outputs": [
    {
     "name": "stdout",
     "output_type": "stream",
     "text": [
      "There are 95 items in the amenities_count dictionary for SF Airbnb data\n",
      "Here is the full list of amenities and their counts...{'Heating': 5974, 'Hot water': 4253, 'Stove': 2734, 'Iron': 5214, 'Dryer': 4593, 'Coffee maker': 3710, 'Carbon monoxide alarm': 5432, 'Pack \\\\u2019n Play/travel crib': 570, 'Private entrance': 2650, 'Microwave': 3507, 'Hangers': 5525, 'Essentials': 5881, 'Laptop-friendly workspace': 4735, 'First aid kit': 3129, 'Smoke alarm': 6017, 'Refrigerator': 3775, 'Wifi': 6279, 'Cooking basics': 2820, 'Shampoo': 4986, 'TV': 5101, 'Dishes and silverware': 3528, 'Room-darkening shades': 511, 'Garden or backyard': 1684, 'Hair dryer': 5484, 'Kitchen': 5009, 'Washer': 4614, 'Keypad': 992, 'Cable TV': 2137, 'Oven': 2821, 'Free street parking': 2884, 'Fire extinguisher': 4433, 'Host greets you': 551, 'Lock on bedroom door': 1479, 'Dishwasher': 2399, 'Extra pillows and blankets': 2169, 'Bed linens': 2997, 'Children\\\\u2019s books and toys': 505, 'Indoor fireplace': 1091, 'Luggage dropoff allowed': 1972, 'Lockbox': 1308, 'Bathtub': 1061, 'High chair': 278, 'Free parking on premises': 1178, 'Patio or balcony': 1522, 'Elevator': 963, 'Stair gates': 114, 'Paid parking off premises': 747, 'BBQ grill': 684, 'Long term stays allowed': 1912, 'Babysitter recommendations': 149, 'Pocket wifi': 74, 'Hot tub': 214, 'Ethernet connection': 368, 'Breakfast': 650, 'Air conditioning': 877, 'Bathroom essentials': 239, 'Bedroom comforts': 239, 'Full kitchen': 165, 'Shower gel': 532, 'Crib': 209, 'Private living room': 361, 'Children\\\\u2019s dinnerware': 202, 'Baby bath': 88, 'Pool': 122, 'Gym': 730, 'Paid parking on premises': 451, 'Building staff': 278, 'Single level home': 373, 'Cleaning before checkout': 275, 'Baking sheet': 308, 'Game console': 140, 'Fireplace guards': 113, 'Changing table': 74, 'Barbecue utensils': 94, 'Smart lock': 334, 'Outlet covers': 154, 'Waterfront': 30, 'Table corner guards': 42, 'Baby monitor': 28, 'EV charger': 58, 'Self check-in': 157, 'Pets allowed': 26, 'Window guards': 65, 'Private hot tub': 5, 'Beach essentials': 68, 'Piano': 8, 'Beachfront': 45, 'Kitchenette': 26, 'Bread maker': 40, 'Suitable for events': 4, 'Ski-in/Ski-out': 1, 'Smoking allowed': 2, 'Shared hot tub': 2, 'Lake access': 12, '': 3}\n"
     ]
    }
   ],
   "source": [
    "# Enter your solution for Q5, Part 1\n",
    "# Create a dictionary called amenities_count where the keys equal the name of the amenities and\n",
    "# the values indicate the number of times the amenities appear.\n",
    "\n",
    "# Create an empty dictionary called amenities_count\n",
    "amenities_count = {}\n",
    "\n",
    "# Create an empty list to store the amenities taken from parsed_listings row[10]\n",
    "all_amenities = []\n",
    "\n",
    "# Populate all_amenities list with each amenity listed in parsed_listings row[10].\n",
    "for row in parsed_listings:\n",
    "    for item in row[10]:\n",
    "        all_amenities.append(item)\n",
    "        \n",
    "# Loop through the items(amenities) in the all_amenities list and add each item to the amenities_count dictionary\n",
    "# where the item is defined as a key and the item's count or frequency in the list is defined as a value.\n",
    "# The list.count() function can be used to provide the count of duplicate items in a list.\n",
    "for item in all_amenities:\n",
    "    amenities_count[item] = all_amenities.count(item)\n",
    "\n",
    "print(f'There are {len(amenities_count)} items in the amenities_count dictionary for SF Airbnb data')\n",
    "print(f'Here is the full list of amenities and their counts...{amenities_count}')\n"
   ]
  },
  {
   "cell_type": "code",
   "execution_count": 19,
   "metadata": {},
   "outputs": [
    {
     "name": "stdout",
     "output_type": "stream",
     "text": [
      "The amenity that appears most often accross all listings is Wifi with 6279 listings.\n"
     ]
    }
   ],
   "source": [
    "# Enter your solution for Q5, Part 2\n",
    "# Iterate through the amenities_count dictionary to surface the amenity that appears most often accross all listings.\n",
    "\n",
    "# Loop through both keys and values in the dictionary using the .items() method.\n",
    "for key,value in amenities_count.items():\n",
    "    \n",
    "    # Find the largest value in the dictionary using max() function and .values() method.\n",
    "    # Store it in maxvalue\n",
    "    maxvalue = max(amenities_count.values())\n",
    "    \n",
    "    # Print out the key and value if the value matches maxvalue.\n",
    "    if value == maxvalue:\n",
    "        print(f'The amenity that appears most often accross all listings is {key} with {value} listings.')\n",
    "   "
   ]
  },
  {
   "cell_type": "markdown",
   "metadata": {},
   "source": [
    "---\n",
    "\n",
    "# ADVANCED \n",
    "\n",
    "> **Advanced:** This section covers mopre complex topics from the previous unit as well as conquering some brand new concepts. These questions are _optional_. \n",
    "\n",
    "## Question 1\n",
    "\n",
    "This dataset has a bunch of properties in it that are ABSURDLY priced ($10000 per night seems a bit high) and are probably priced in this way to deter rentals whilst still keeping the property up. This makes them severe outliers in the dataset and could throw off any analysis we want to make in the future. Let's try to clear this up.\n",
    "\n",
    "- **Part 1.** Create a loop that goes through the original list of properties and places them into a new list from least to most expensive. Then take some time to look through a few of the higher priced properties. This will reveal some strange values. \n",
    "> Note: There are many ways to accomplish this task but we recommend using a new library method called [itemgetter](https://docs.python.org/3/library/operator.html#operator.itemgetter) which was made specifically for this purpose and the [sorted](https://www.w3schools.com/python/ref_func_sorted.asp) function.\n",
    "\n",
    "- **Part 2.** Calculate the median price of the sorted dataset. This will be used in order to determine the quartiles of our dataset.\n",
    "\n",
    "- **Part 3.** Calculate the lower quartile (the data point below which 25% of the observations set)\n",
    "\n",
    "- **Part 4.** Calculate the upper quartile (the data point above which 25% of the observations set)\n",
    "\n",
    "- **Part 5.** Find the interquartile range by subtracting the value of the lower quartile from the value of the upper quartile.\n",
    "\n",
    "- **Part 6.** Find the \"inner fences\" of the data set. To find the inner fences of the data set first multiply the interquartile range by 1.5. Then add the result to the upper quartile and subtract it from the lower quartile. The two values you recieve are the boundries for the dataset's inner fences.\n",
    "> Note: A point that falls outside of this numeric boundry is classified as a *minor outlier*\n",
    "\n",
    "- **Part 7.** Find the \"outer fences\" of the data set. This is done in the same way as uncovering the inner fences, except that the interquartile range is multiplied by 3 instead of 1.5. The result is then added to the upper quartile and subtracted from lower quartile to find the upper and lower boundaries of the outer fence.\n",
    "> Note: A point that falls outside of this numeric boundry is classified as a *major outlier*\n",
    "\n",
    "- **Part 8.** Now it is time to finally clean the dataset! Remove any values from the listings whose prices are outside of the outer fences.\n",
    "\n",
    "- **Part 9.** Finally, let's add a new value to each listing that tells the viewer whether or not the listing is a minor outlier or not."
   ]
  },
  {
   "cell_type": "code",
   "execution_count": 20,
   "metadata": {
    "scrolled": true
   },
   "outputs": [
    {
     "name": "stdout",
     "output_type": "stream",
     "text": [
      "10.0\n",
      "10000.0\n"
     ]
    }
   ],
   "source": [
    "# Now you try!\n",
    "# Enter your solution for Q1, Part 1\n",
    "\n",
    "# Load the operator module which contains itemgetter function\n",
    "import operator\n",
    "\n",
    "# Sort parsed_listings from least to most expensive using price and place it into a list called sorted_listings \n",
    "Sorted_listings = sorted(parsed_listings, key=operator.itemgetter(11))\n",
    "\n",
    "# Spot check listing to see if first listing has low price and last listing has high price\n",
    "# Check first price\n",
    "print(Sorted_listings[0][11])\n",
    "# Check last price\n",
    "print(Sorted_listings[-1][11])\n"
   ]
  },
  {
   "cell_type": "code",
   "execution_count": 22,
   "metadata": {},
   "outputs": [
    {
     "name": "stdout",
     "output_type": "stream",
     "text": [
      "The median price for Sorted_listings is $146.0.\n"
     ]
    }
   ],
   "source": [
    "# Now you try!\n",
    "# Enter your solution for Q1, Part 2\n",
    "\n",
    "# Create function to find the median price in a list sorted in descending order.\n",
    "def CalculateMedianPrice(sortlist):\n",
    "    # If sortlist has odd number of items\n",
    "    if int(len(sortlist))%2 ==1:\n",
    "        # Since index starts at 0, dividing the interger length of odd rows by 2 would give the index for the median\n",
    "        index = int(len(sortlist)/2)\n",
    "        # locate price at median index\n",
    "        medianprice = sortlist[index][11]\n",
    "    else:\n",
    "        # for even number of items the two middle indices are needed\n",
    "        index = int((len(sortlist)/2)-1)\n",
    "        index2 = int(len(sortlist)/2)\n",
    "        # add the prices of the two middle indices and divide by two\n",
    "        medianprice = (sortlist[index][11] + sortlist[index2][11])/2\n",
    "        \n",
    "    return medianprice\n",
    "\n",
    "# Use CalculateMedianPrice function to find median price for Sorted_listings and store it as median_price\n",
    "median_price = CalculateMedianPrice(Sorted_listings)\n",
    "\n",
    "# Print results\n",
    "print(f'The median price for Sorted_listings is ${round(median_price,2)}.')\n"
   ]
  },
  {
   "cell_type": "code",
   "execution_count": 24,
   "metadata": {},
   "outputs": [
    {
     "name": "stdout",
     "output_type": "stream",
     "text": [
      "Lower quartile price = $90.0.\n",
      "Upper quartile price = $239.0.\n",
      "The interquartile range = 149.0\n"
     ]
    }
   ],
   "source": [
    "# Now you try!\n",
    "# Enter your solution for Q1, Part 3, 4, and 5\n",
    "# Sorted_listings has an even number of items.  Find the two indices that fall below and above the midpoint. \n",
    "BelowMidpoint = int((len(Sorted_listings)/2)-1)\n",
    "AboveMidpoint = int(len(Sorted_listings)/2)\n",
    "\n",
    "# The lower quartile point is the median for all numbers below the median\n",
    "# Take all items below the median.\n",
    "below_median = Sorted_listings[0:BelowMidpoint]\n",
    "\n",
    "# The upper quartile point is the median for all numbers above the median\n",
    "# Take all items above the median.\n",
    "above_median = Sorted_listings[AboveMidpoint:]\n",
    "\n",
    "# Use CalculateMedianPrice to locate the lower and upper quartile price.\n",
    "lower_quartile = CalculateMedianPrice(below_median)\n",
    "upper_quartile = CalculateMedianPrice(above_median)\n",
    "\n",
    "# The interquartile range (IQR) is the difference between the upper and lower quartiles\n",
    "IQR = upper_quartile-lower_quartile\n",
    "\n",
    "print(f'Lower quartile price = ${lower_quartile}.')\n",
    "print(f'Upper quartile price = ${upper_quartile}.')\n",
    "print(f'The interquartile range = {IQR}')"
   ]
  },
  {
   "cell_type": "code",
   "execution_count": 25,
   "metadata": {},
   "outputs": [
    {
     "name": "stdout",
     "output_type": "stream",
     "text": [
      "The inner fences of the data are -133.5 and 462.5.\n",
      "The outer fences of the data are -357.0 and 686.0.\n"
     ]
    }
   ],
   "source": [
    "# Now you try!\n",
    "# Enter your solution for Q1, Part 6 and 7\n",
    "\n",
    "# Calculate the inner fences\n",
    "inner_fence1 = lower_quartile -(IQR*1.5)\n",
    "inner_fence2 = upper_quartile + (IQR*1.5)\n",
    "\n",
    "print(f'The inner fences of the data are {inner_fence1} and {inner_fence2}.')\n",
    "\n",
    "#Calculate the outer fences\n",
    "outer_fence1 = lower_quartile -(IQR*3)\n",
    "outer_fence2 = upper_quartile +(IQR*3)\n",
    "\n",
    "print(f'The outer fences of the data are {outer_fence1} and {outer_fence2}.')"
   ]
  },
  {
   "cell_type": "code",
   "execution_count": 26,
   "metadata": {},
   "outputs": [
    {
     "name": "stdout",
     "output_type": "stream",
     "text": [
      "10.0\n",
      "683.0\n"
     ]
    }
   ],
   "source": [
    "# Now you try!\n",
    "# Enter your solution for Q1, Part 8\n",
    "\n",
    "# Remove the major outliers by storing the non-major outliers in Sorted_listings into CleanListings\n",
    "CleanListings = [row for row in Sorted_listings if row[11] >= outer_fence1 and row[11] <= outer_fence2]\n",
    "\n",
    "# Check the prices in the first row and last row to make sure they fall within the outer fences.\n",
    "print(CleanListings[0][11])\n",
    "print(CleanListings[-1][11])"
   ]
  },
  {
   "cell_type": "code",
   "execution_count": 27,
   "metadata": {},
   "outputs": [],
   "source": [
    "# Now you try!\n",
    "# Enter your solution for Q1, Part 9\n",
    "\n",
    "# Add a new value to each listing to define whether prices are minor outliers or not.\n",
    "for row in CleanListings:\n",
    "    if row[11] < inner_fence1 or row[11] > inner_fence2:\n",
    "        row.append(\"price is a minor outlier\")\n",
    "    else:\n",
    "        row.append(\"price falls within expected market price\")        "
   ]
  },
  {
   "cell_type": "code",
   "execution_count": 28,
   "metadata": {},
   "outputs": [
    {
     "name": "stdout",
     "output_type": "stream",
     "text": [
      "['10105531', 'https://www.airbnb.com/rooms/10105531', 'Studio by Dolores Park & Castro', '9776019', 'Lorenzo', 'f', 'Castro/Upper Market', 2, 1.0, 1.0, ['Heating', 'Hot water', 'Stove', 'Iron', 'Carbon monoxide alarm', 'Coffee maker', 'Private entrance', 'Microwave', 'Hangers', 'Essentials', 'Laptop-friendly workspace', 'Smoke alarm', 'Extra pillows and blankets', 'Refrigerator', 'Fire extinguisher', 'Wifi', 'Cooking basics', 'Shampoo', 'TV', 'Dishes and silverware', 'Hair dryer', 'Host greets you', 'Kitchen', 'Oven', 'Bed linens', 'Ethernet connection'], 10.0, 'price falls within expected market price']\n",
      "['44523362', 'https://www.airbnb.com/rooms/44523362', 'Beautiful Home With Stunning 360 View of Downtown', '12264996', 'Luong', 'f', 'Twin Peaks', 6, 3.0, 3.0, ['Smoke alarm', 'Heating', 'Kitchen', 'First aid kit', 'Breakfast', 'Fire extinguisher', 'Wifi', 'Private entrance', 'Washer', 'Iron', 'Cooking basics', 'Dryer', 'TV', 'Shampoo', 'Hangers', 'Patio or balcony', 'Carbon monoxide alarm', 'Hair dryer', 'Essentials', 'Laptop-friendly workspace'], 683.0, 'price is a minor outlier']\n"
     ]
    }
   ],
   "source": [
    "# Spot check to make sure listings appended appropriate outlier definition\n",
    "print(CleanListings[0])\n",
    "print(CleanListings[-1])"
   ]
  },
  {
   "cell_type": "markdown",
   "metadata": {},
   "source": [
    "## Question 2\n",
    "\n",
    "You are working with a client on developing a new a value proposition for their AirBnB properties. This will help your client, a real estate investor, determine which type of properties they should purchase to have the best success on AirBnB.\n",
    "\n",
    "**Part 1.** Create at least three rental market segments based on price and the number of people the property can accommodate.\n",
    "\n",
    "> Note: Market segments refer to clustering a group of people by one of more charactertic. In marketing, it will allow us to develop a specifc targeted strategy for different people based on their needs. In our case, you should segment the rentals based on price and the number of people the property can accommodate. For exmaple, one segment could contain lower priced and smaller properties. This segment could be geared toward a customers that are price sensitive and looking for a deal. Another segment could contain large higher priced properties tailored to customers looking for a place to stay for a family / friend celebration or vacation. \n",
    "\n",
    "**Part 2.** Which room and property type appear the most in each segment?\n",
    "\n",
    "**Part 3.** How many properties contain reviews under 5 in each segment? Remove all rentals with the number of reviews under 5 from each\n",
    "\n",
    "**Part 4.** Which segment should your client consider and why?"
   ]
  },
  {
   "cell_type": "code",
   "execution_count": 29,
   "metadata": {},
   "outputs": [],
   "source": [
    "# Now you try!\n",
    "# Enter your solution for Q2, Part 1\n",
    "# Chose 6 rental market segments: Room for One (single accomodations), Economy and luxury for double accomodations.\n",
    "#  Accomodations for 6+ and standard and luxury accomodations for Families of 3-5 members.\n",
    "#  The lists utilize info from CleanListings to exclude outliers and the precalculated median and upper quartile prices\n",
    "Room_for_One = [row for row in CleanListings if row[7]==1]\n",
    "Double_Economy =[row for row in CleanListings if row[7] == 2 and row[11] <= median_price]\n",
    "Double_Luxury = [row for row in CleanListings if row [7] == 2 and row[11] > median_price]\n",
    "Family_Size_3_to_5 = [row for row in CleanListings if 3 <= row[7] <= 5 and row[11] < upper_quartile]\n",
    "Family_Size_3_to_5_Luxury = [row for row in CleanListings if 3<=row[7]<=5 and row[11]>= upper_quartile]\n",
    "Family_Size_6_or_more = [row for row in CleanListings if row[7] > 5]"
   ]
  },
  {
   "cell_type": "code",
   "execution_count": 30,
   "metadata": {},
   "outputs": [],
   "source": [
    "# Now you try!\n",
    "# Enter your solution for Q2, Part 2a\n",
    "# Property type is not a variable in the listings.  Instead will use neighborhood_cleansed as substitute.\n",
    "# Will exclude room since I am unclear on what is requested.\n",
    "\n",
    "# Chose to create a function allowing user to enter the segment as the variable.\n",
    "\n",
    "def most_neighborhood_count(segment):\n",
    "    # Create empty neighborhood dictionaries to contain items and their counts\n",
    "    neighborhood = {}\n",
    " \n",
    "    # Create empty holding lists\n",
    "    neighhold = []\n",
    "    \n",
    "    # Loop through the given segment list and append each neighborhood to neighhold\n",
    "    for row in segment:\n",
    "        neighhold.append(row[6])\n",
    "        #Loop through neighhold and append neighborhood as key and count as value in neighborhood dictionary.\n",
    "        for item in neighhold:\n",
    "            neighborhood[item] = neighhold.count(item)\n",
    "    \n",
    "    # Loop through each key and value in neighborhood dict. using items() method\n",
    "    for nkey, nvalue in neighborhood.items():\n",
    "        #Find the largest count of neighborhoods using max() function and values() method\n",
    "        maxnvalue = max(neighborhood.values())\n",
    "        # If value is the largest value store the key for that value\n",
    "        if nvalue == maxnvalue:\n",
    "            maxnkey = nkey\n",
    "    \n",
    "    # Print the results\n",
    "    return print(f'This segment has most locations in {maxnkey} neighborhood with {maxnvalue} listings out of {len(segment)} listings in the segment.')\n",
    "            \n"
   ]
  },
  {
   "cell_type": "code",
   "execution_count": 31,
   "metadata": {},
   "outputs": [
    {
     "name": "stdout",
     "output_type": "stream",
     "text": [
      "This segment has most locations in South of Market neighborhood with 134 listings out of 931 listings in the segment.\n"
     ]
    }
   ],
   "source": [
    "#Q2 Part 2b\n",
    "# Type one of the segments into the most_neighborhood_count function to find which neighborhood has the most listings.\n",
    "\n",
    "most_neighborhood_count(Double_Luxury)\n"
   ]
  },
  {
   "cell_type": "code",
   "execution_count": 32,
   "metadata": {},
   "outputs": [
    {
     "name": "stdout",
     "output_type": "stream",
     "text": [
      "Here are the number of superhost listings by segment:\n",
      "Room for One = 259\n",
      "Double Economy = 830\n",
      "Double Luxury = 403\n",
      "Family Size 3 to 5 = 654\n",
      "Family Size 3 to 5 Luxury = 285\n",
      "Family Size 6 or more = 323\n"
     ]
    }
   ],
   "source": [
    "# Now you try!\n",
    "# Enter your solution for Q2, Part 3\n",
    "# Since reviews are not included in the data, the host_is_superhost will be used in its place.\n",
    "\n",
    "# Store listings where the host is a superhost for each client segment.\n",
    "\n",
    "SH_Room_for_One = [row for row in Room_for_One if row[5] == 't']\n",
    "SH_Double_Economy = [row for row in Double_Economy if row[5] == 't']\n",
    "SH_Double_Luxury = [row for row in Double_Luxury if row[5] == 't']\n",
    "SH_Family_Size_3_to_5 = [row for row in Family_Size_3_to_5 if row[5] == 't']\n",
    "SH_Family_Size_3_to_5_Luxury = [row for row in Family_Size_3_to_5_Luxury if row[5] == 't']\n",
    "SH_Family_Size_6_or_more = [row for row in Family_Size_6_or_more if row[5] == 't']\n",
    "\n",
    "# Print the number of superhost listings for each segment.\n",
    "print(f'Here are the number of superhost listings by segment:\\nRoom for One = {len(SH_Room_for_One)}')\n",
    "print(f'Double Economy = {len(SH_Double_Economy)}\\nDouble Luxury = {len(SH_Double_Luxury)}')\n",
    "print(f'Family Size 3 to 5 = {len(SH_Family_Size_3_to_5)}')\n",
    "print(f'Family Size 3 to 5 Luxury = {len(SH_Family_Size_3_to_5_Luxury)}')\n",
    "print(f'Family Size 6 or more = {len(SH_Family_Size_6_or_more)}')\n"
   ]
  },
  {
   "cell_type": "code",
   "execution_count": 33,
   "metadata": {},
   "outputs": [
    {
     "name": "stdout",
     "output_type": "stream",
     "text": [
      "Room for One high ratings ratio = 0.36\n",
      "Double Economy high rating ratio = 0.49\n",
      "Double Luxury high rating ratio = 0.43\n",
      "Family Size 3 to 5 high rating ratio = 0.46\n",
      "Family_Size 3 to 5_Luxury high rating ratio = 0.47\n",
      "Family_Size 6 ormore high rating ratio = 0.46\n"
     ]
    }
   ],
   "source": [
    "# Now you try!\n",
    "# Enter your solution for Q2, Part 3\n",
    "# Let's pretend that a superhost is equivalent to a high rating. \n",
    "# The ratio of superhost to segment would be a good way to measure the proportion of high ratings to segments\n",
    "\n",
    "SHratio_Room_for_One = round(len(SH_Room_for_One)/len(Room_for_One),2)\n",
    "SHratio_Double_Economy = round(len(SH_Double_Economy)/len(Double_Economy),2)\n",
    "SHratio_Double_Luxury = round(len(SH_Double_Luxury)/len(Double_Luxury),2)\n",
    "SHratio_Family_Size_3_to_5 = round(len(SH_Family_Size_3_to_5)/len(Family_Size_3_to_5),2)\n",
    "SHratio_Family_Size_3_to_5_Luxury = round(len(SH_Family_Size_3_to_5_Luxury)/len(Family_Size_3_to_5_Luxury),2)\n",
    "SHratio_Family_Size_6_or_more = round(len(SH_Family_Size_6_or_more)/len(Family_Size_6_or_more),2)\n",
    "\n",
    "print(f'Room for One high ratings ratio = {SHratio_Room_for_One}')\n",
    "print(f'Double Economy high rating ratio = {SHratio_Double_Economy}')\n",
    "print(f'Double Luxury high rating ratio = {SHratio_Double_Luxury}')\n",
    "print(f'Family Size 3 to 5 high rating ratio = {SHratio_Family_Size_3_to_5}')\n",
    "print(f'Family_Size 3 to 5_Luxury high rating ratio = {SHratio_Family_Size_3_to_5_Luxury}')\n",
    "print(f'Family_Size 6 ormore high rating ratio = {SHratio_Family_Size_6_or_more}')\n"
   ]
  },
  {
   "cell_type": "code",
   "execution_count": 34,
   "metadata": {},
   "outputs": [
    {
     "name": "stdout",
     "output_type": "stream",
     "text": [
      "This segment has most locations in Mission neighborhood with 82 listings out of 830 listings in the segment.\n",
      "None\n",
      "This segment has most locations in Downtown/Civic Center neighborhood with 40 listings out of 285 listings in the segment.\n",
      "None\n"
     ]
    }
   ],
   "source": [
    "# Double Economy and Family Size 3 to 5 Luxury have the two highest rating ratios of all segments.\n",
    "# Find the neighborhood with the most Double Economy and Family Size 3 to 5 Luxury high_ratings\n",
    "print(most_neighborhood_count(SH_Double_Economy))\n",
    "print(most_neighborhood_count(SH_Family_Size_3_to_5_Luxury))"
   ]
  },
  {
   "cell_type": "code",
   "execution_count": null,
   "metadata": {},
   "outputs": [],
   "source": [
    "# I would recommend client to puchase either a Double_Economy property in the Mission neighborhood or a \n",
    "# Family Size 3 to 5 Luxury property in the Downtown/Civic Center neighborhood since\n",
    "# these segments in those neighborhoods have the most numerous locations to choose from with a superhost/high rating."
   ]
  }
 ],
 "metadata": {
  "kernelspec": {
   "display_name": "Python 3",
   "language": "python",
   "name": "python3"
  },
  "language_info": {
   "codemirror_mode": {
    "name": "ipython",
    "version": 3
   },
   "file_extension": ".py",
   "mimetype": "text/x-python",
   "name": "python",
   "nbconvert_exporter": "python",
   "pygments_lexer": "ipython3",
   "version": "3.8.3"
  }
 },
 "nbformat": 4,
 "nbformat_minor": 2
}
