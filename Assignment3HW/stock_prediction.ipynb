{
 "cells": [
  {
   "cell_type": "markdown",
   "metadata": {},
   "source": [
    "\n",
    "<a id=\"overview\"></a>\n",
    "\n",
    "# Predicting Stock Price Movement\n",
    "\n",
    "\n",
    "## Overview\n",
    "It's your first day at RedBoulder, the globe's preeminent financial institution. On your first day, you are assigned to design an algorithm to predict the movement of the equity, [Twilio, Inc](https://finance.yahoo.com/quote/TWLO/). You are given two datasets:\n",
    "\n",
    "1. Price / volume data for the month of August 2019\n",
    "2. Twitter data for the month of August 2019. This dataset includes every single tweet posted in that month that includes the cashtag `$TWLO`\n",
    "\n",
    "In this project, you will be tasked with importing, cleaning, visualizing, and analyzing market data for Twilio, Inc. (TWLO). Your goal is to predict how the price is likely to move in short intervals. To do so, you'll be  comparing market data to trends ascertained from sentiment data collected on Twitter.\n",
    "\n",
    "\n",
    "**Expected Time to complete: 5-10 hours**\n",
    "\n",
    "## Objectives\n",
    "\n",
    "This assignment will provide you with a chance to:\n",
    "\n",
    "- Use `pandas` to read in CSV files.\n",
    "- Practice core `pandas` functionality such as `merge`, filtering, etc.\n",
    "- Graph trends to determine insights with `matplotlib`.\n",
    "- Clean and structure stock price prediction data to forecast demand.\n",
    "\n",
    "\n",
    "## Problem\n",
    "\n",
    "Your task is to set up the data and ascertain signals that correlate to stock price movement. You'll be answering questions, such as:\n",
    "\n",
    "- What is the volatility of our data within 30 minute windows?\n",
    "- Can we predict price movement within 2 hours with a degree of accuracy better than random chance?\n",
    "\n",
    "> Hint: This assignment works extensively with financial terminology. If you need a refresher, [click here](https://www.investopedia.com/insights/digging-deeper-bull-and-bear-markets/).\n",
    "\n",
    "## Structure\n",
    "\n",
    "This notebook walks through Pythonic data analysis in different stages: \n",
    "\n",
    "- **Required:** This section covers classroom topics from recent units. These are _required_. \n",
    "- **Advanced:** This section covers upcoming topics. These are _optional_.\n",
    "\n",
    "Throughout the notebook, you will see clearly labeled sections._You must provide answers to all of the questions in the **Required** section._ Some questions have been further divided up into \"Part 1\", \"Part 2\", (etc) in order to break down the steps of sequential logic used in Python programming. Please attempt answers for all parts.\n",
    "\n",
    "For those of you who wish to work ahead or want to come back later for more practice, the **Advanced** section offers additional prompts that will extend your analysis. This section is optional; you do not need to complete these for submission; however, depending on the discretion of your section instructor, these questions may be completed for bonus points.\n",
    "\n",
    "\n",
    "## Instructions\n",
    "\n",
    "1. Open the assignment notebook. \n",
    "1. Save a copy of your notebook and retitle it: \"yourname_assignment.ipynb\"\n",
    "1. Attempt answers for all **Required questions**. Some questions can be solved in many different ways!\n",
    "1. Include at least one comment per question explaining your logic or approach. To include a comment in your Python code, use the `#` sign.\n",
    "1. Make sure to include all work within your Jupyter notebook.\n",
    "1. Submit answers for the **Required questions** to your instructional team by the due date.\n",
    "1. Have fun!\n",
    "\n",
    "## Data\n",
    "\n",
    "Our dataset includes two CSV files: `twlo.csv` and `tweets.csv`.\n",
    "\n",
    "- `Twlo.csv` includes price / volume data for the month of August 2019.\n",
    "- `Tweets.csv` includes Twitter data for the month of August 2019, pulling in every single tweet posted that month which included the tag `$TWLO`.\n",
    "\n",
    "\n",
    "1. Within `twlo.csv`, you'll see the following columns:\n",
    "\n",
    "    - date - the date of the stock market data point (by the minute)\n",
    "    - close - the closing price\n",
    "    - high - high for the minute\n",
    "    - low - low for the minute\n",
    "    - open - opening price\n",
    "    - volume - trading volume at that minute\n",
    "    \n",
    "\n",
    "2. In `tweets.csv`, you'll find:\n",
    "\n",
    "    - text - the text of all tweets containing the tag `$TWLO`\n",
    "    - `tweet_unique_id` - twittter's unique id for the tweet\n",
    "    - `date_tweeted` - the date that tweet was posted\n",
    "    - `author_handle` - handle for the author\n",
    "    - `author_id` - unique id for the author\n",
    "    - `author_verified` - boolean, whether or not the author is \"Twitter verified\"\n",
    "    - `num_followers` - How many followers the author has\n",
    "    - `num_following` - How many people the author follows\n",
    "  "
   ]
  },
  {
   "cell_type": "markdown",
   "metadata": {},
   "source": [
    "---\n",
    "### Setting up our Environment"
   ]
  },
  {
   "cell_type": "code",
   "execution_count": 2,
   "metadata": {
    "scrolled": true
   },
   "outputs": [],
   "source": [
    "# Import our libraries for data manipulation and plotting:\n",
    "\n",
    "import pandas as pd\n",
    "from matplotlib import style\n",
    "\n",
    "import matplotlib.pyplot as plt\n",
    "%matplotlib inline"
   ]
  },
  {
   "cell_type": "code",
   "execution_count": 3,
   "metadata": {},
   "outputs": [],
   "source": [
    "data = pd.read_csv('data/twlo.csv')"
   ]
  },
  {
   "cell_type": "markdown",
   "metadata": {},
   "source": [
    "------------------\n",
    "\n",
    "# REQUIRED / GRADED\n",
    "> **Required:** This section covers classroom topics from class and is _required_. \n",
    "\n",
    "Begin your analysis by analyzing the data with Pandas. \n",
    "\n",
    "Ready, set, go!\n"
   ]
  },
  {
   "cell_type": "markdown",
   "metadata": {},
   "source": [
    "---\n",
    "\n",
    "## Question 1\n",
    "\n",
    "Change the index to be the `date` column [and use `tz_convert`](https://pandas.pydata.org/pandas-docs/stable/reference/api/pandas.Series.dt.tz_convert.html) to convert the dates to Eastern timezone (they are currently in UTC)."
   ]
  },
  {
   "cell_type": "code",
   "execution_count": 3,
   "metadata": {},
   "outputs": [],
   "source": [
    "# Now you try!\n",
    "# Enter your solution for Q1"
   ]
  },
  {
   "cell_type": "markdown",
   "metadata": {},
   "source": [
    "---\n",
    "\n",
    "## Question 2\n",
    "\n",
    "Use pandas plot to plot the closing price as a line graph over the entire month of August. Include a title for the graph."
   ]
  },
  {
   "cell_type": "code",
   "execution_count": 5,
   "metadata": {},
   "outputs": [],
   "source": [
    "# Now you try!\n",
    "# Enter your solution for Q2"
   ]
  },
  {
   "cell_type": "markdown",
   "metadata": {},
   "source": [
    "---\n",
    "\n",
    "## Question 3\n",
    "\n",
    "Use Matplotlib (not built in pandas plotting) to plot two graphs on top of one another:\n",
    "\n",
    "- **Part 1**. The top graph should be the closing price plotted over the entire month (same as the last question)\n",
    "- **Part 2**. The bottom graph should be the volume as a bar chart\n",
    "\n",
    "> Hint: If you want to customize your plots, [check out the documentation for `style.use`](https://matplotlib.org/3.1.1/api/style_api.html?highlight=style%20use#matplotlib.style.use). [Click here for further inspiration](https://matplotlib.org/3.1.1/gallery/style_sheets/style_sheets_reference.html)."
   ]
  },
  {
   "cell_type": "code",
   "execution_count": 7,
   "metadata": {},
   "outputs": [],
   "source": [
    "# Now you try!\n",
    "# Enter your solution for Q3, Parts 1 and 2"
   ]
  },
  {
   "cell_type": "markdown",
   "metadata": {},
   "source": [
    "---\n",
    "\n",
    "## Question 4\n",
    "\n",
    "Use pandas' [rolling method](https://pandas.pydata.org/pandas-docs/stable/reference/api/pandas.DataFrame.rolling.html) to calculate the rolling standard deviation and rolling mean with 30 minute windows for the \"close\" and \"volume\" columns.\n",
    "\n",
    "> Hint: Some cells will be empty because there isn't any data from the last 30 minutes for early trading minutes. This is ok!"
   ]
  },
  {
   "cell_type": "code",
   "execution_count": 9,
   "metadata": {},
   "outputs": [],
   "source": [
    "# Now you try!\n",
    "# Enter your solution for Q4"
   ]
  },
  {
   "cell_type": "markdown",
   "metadata": {},
   "source": [
    "---\n",
    "\n",
    "### Tutorial\n",
    "\n",
    "The **[Coefficient of Variation](https://en.wikipedia.org/wiki/Coefficient_of_variation)** provides a standardized measure of dispersion that gives some insight into the volatility of day to day trading."
   ]
  },
  {
   "cell_type": "markdown",
   "metadata": {},
   "source": [
    "---\n",
    "\n",
    "## Question 5\n",
    "\n",
    "Calculate the rolling \"Coefficient of Variation\" (calculated as the `rolling std / rolling mean`) with a window of 60 minutes for each column.\n",
    "\n",
    "> Remember, some cells will be empty because there isn't any data from the last 30 minutes for early trading minutes. This is ok!"
   ]
  },
  {
   "cell_type": "code",
   "execution_count": 13,
   "metadata": {},
   "outputs": [],
   "source": [
    "# Now you try!\n",
    "# Enter your solution for Q5"
   ]
  },
  {
   "cell_type": "markdown",
   "metadata": {},
   "source": [
    "---\n",
    "\n",
    "### Tutorial"
   ]
  },
  {
   "cell_type": "code",
   "execution_count": 15,
   "metadata": {},
   "outputs": [
    {
     "data": {
      "text/html": [
       "<div>\n",
       "<style scoped>\n",
       "    .dataframe tbody tr th:only-of-type {\n",
       "        vertical-align: middle;\n",
       "    }\n",
       "\n",
       "    .dataframe tbody tr th {\n",
       "        vertical-align: top;\n",
       "    }\n",
       "\n",
       "    .dataframe thead th {\n",
       "        text-align: right;\n",
       "    }\n",
       "</style>\n",
       "<table border=\"1\" class=\"dataframe\">\n",
       "  <thead>\n",
       "    <tr style=\"text-align: right;\">\n",
       "      <th></th>\n",
       "      <th>text</th>\n",
       "      <th>tweet_unique_id</th>\n",
       "      <th>author_handle</th>\n",
       "      <th>author_id</th>\n",
       "      <th>author_verified</th>\n",
       "      <th>date_tweeted</th>\n",
       "      <th>num_followers</th>\n",
       "      <th>num_following</th>\n",
       "    </tr>\n",
       "  </thead>\n",
       "  <tbody>\n",
       "    <tr>\n",
       "      <th>0</th>\n",
       "      <td>RT @HedgeMind: $TWLO's hype growth continues, ...</td>\n",
       "      <td>1156719610433015808</td>\n",
       "      <td>AshwinMaddi</td>\n",
       "      <td>57757815</td>\n",
       "      <td>False</td>\n",
       "      <td>2019-08-01 00:13:40+00:00</td>\n",
       "      <td>191</td>\n",
       "      <td>548</td>\n",
       "    </tr>\n",
       "    <tr>\n",
       "      <th>1</th>\n",
       "      <td>Blog Post: \"Burn It to the Ground\"\\n\\nhttps://...</td>\n",
       "      <td>1156719981083729923</td>\n",
       "      <td>JohnBonini</td>\n",
       "      <td>23892061</td>\n",
       "      <td>False</td>\n",
       "      <td>2019-08-01 00:15:08+00:00</td>\n",
       "      <td>390</td>\n",
       "      <td>688</td>\n",
       "    </tr>\n",
       "    <tr>\n",
       "      <th>2</th>\n",
       "      <td>$TWLO Twilio Inc. Class A Commo #LeaderPullBac...</td>\n",
       "      <td>1156721339325177856</td>\n",
       "      <td>stockmktgenius</td>\n",
       "      <td>914214567152160768</td>\n",
       "      <td>False</td>\n",
       "      <td>2019-08-01 00:20:32+00:00</td>\n",
       "      <td>597</td>\n",
       "      <td>58</td>\n",
       "    </tr>\n",
       "    <tr>\n",
       "      <th>3</th>\n",
       "      <td>Jeff Lawson (Twilio $TWLO Founder &amp;amp; CEO) i...</td>\n",
       "      <td>1156727135530360834</td>\n",
       "      <td>newmoneyFC</td>\n",
       "      <td>3278201701</td>\n",
       "      <td>False</td>\n",
       "      <td>2019-08-01 00:43:34+00:00</td>\n",
       "      <td>1437</td>\n",
       "      <td>201</td>\n",
       "    </tr>\n",
       "    <tr>\n",
       "      <th>4</th>\n",
       "      <td>RT @EvanKenty: $TWLO Regained all AH drop, sho...</td>\n",
       "      <td>1156727777195958280</td>\n",
       "      <td>j_p_jacques</td>\n",
       "      <td>31173813</td>\n",
       "      <td>False</td>\n",
       "      <td>2019-08-01 00:46:07+00:00</td>\n",
       "      <td>1344</td>\n",
       "      <td>1780</td>\n",
       "    </tr>\n",
       "  </tbody>\n",
       "</table>\n",
       "</div>"
      ],
      "text/plain": [
       "                                                text      tweet_unique_id  \\\n",
       "0  RT @HedgeMind: $TWLO's hype growth continues, ...  1156719610433015808   \n",
       "1  Blog Post: \"Burn It to the Ground\"\\n\\nhttps://...  1156719981083729923   \n",
       "2  $TWLO Twilio Inc. Class A Commo #LeaderPullBac...  1156721339325177856   \n",
       "3  Jeff Lawson (Twilio $TWLO Founder &amp; CEO) i...  1156727135530360834   \n",
       "4  RT @EvanKenty: $TWLO Regained all AH drop, sho...  1156727777195958280   \n",
       "\n",
       "    author_handle           author_id  author_verified  \\\n",
       "0     AshwinMaddi            57757815            False   \n",
       "1      JohnBonini            23892061            False   \n",
       "2  stockmktgenius  914214567152160768            False   \n",
       "3      newmoneyFC          3278201701            False   \n",
       "4     j_p_jacques            31173813            False   \n",
       "\n",
       "                date_tweeted  num_followers  num_following  \n",
       "0  2019-08-01 00:13:40+00:00            191            548  \n",
       "1  2019-08-01 00:15:08+00:00            390            688  \n",
       "2  2019-08-01 00:20:32+00:00            597             58  \n",
       "3  2019-08-01 00:43:34+00:00           1437            201  \n",
       "4  2019-08-01 00:46:07+00:00           1344           1780  "
      ]
     },
     "execution_count": 15,
     "metadata": {},
     "output_type": "execute_result"
    }
   ],
   "source": [
    "# Great, now let's import the twitter data!\n",
    "\n",
    "tweets = pd.read_csv('data/twlo_tweets.csv')\n",
    "\n",
    "tweets.head()"
   ]
  },
  {
   "cell_type": "markdown",
   "metadata": {},
   "source": [
    "---\n",
    "\n",
    "## Question 6\n",
    "\n",
    "Change the index of `tweets` to be the `date_tweeted` column and use [tz_convert](https://pandas.pydata.org/pandas-docs/stable/reference/api/pandas.Series.dt.tz_convert.html) to convert the dates to Eastern timezone (they are currently all in UTC)"
   ]
  },
  {
   "cell_type": "code",
   "execution_count": 16,
   "metadata": {},
   "outputs": [],
   "source": [
    "# Now you try!\n",
    "# Enter your solution for Q6"
   ]
  },
  {
   "cell_type": "markdown",
   "metadata": {},
   "source": [
    "---\n",
    "\n",
    "## Question 7\n",
    "\n",
    "- **Part 1**: Show the tweets that contain the word `bull` in it\n",
    "- **Part 2**: Show a bar chart showing the number of tweets that come out by the hour of the day\n",
    "\n",
    "> Hint: There should be 24 bars, each bar showing how many tweets came out at that hour over the entire month."
   ]
  },
  {
   "cell_type": "code",
   "execution_count": 18,
   "metadata": {},
   "outputs": [],
   "source": [
    "# Now you try!\n",
    "# Enter your solution for Q7, Part 1"
   ]
  },
  {
   "cell_type": "code",
   "execution_count": 19,
   "metadata": {},
   "outputs": [],
   "source": [
    "# Now you try!\n",
    "# Enter your solution for Q7, Part 2"
   ]
  },
  {
   "cell_type": "markdown",
   "metadata": {},
   "source": [
    "------------------\n",
    "\n",
    "# ADVANCED \n",
    "\n",
    "> **Advanced:** This section covers upcoming topics from future units. These questions are _optional_. \n",
    "\n",
    "So far, you've learned to work with Pandas to analyze data... but there's still a lot more to be done!\n",
    "\n",
    "The following questions are NOT required for submission; however, they will help you expand your analysis. In the next section, we'll deepen our analysis by comparing training and test data and then building a decision tree classifier.\n",
    "\n",
    "> Hint: If you feel like proceeding, we recommend that you spend some time with the documentation for [ScikitLearn](https://scikit-learn.org/stable/modules/generated/sklearn.metrics.classification_report.html)"
   ]
  },
  {
   "cell_type": "markdown",
   "metadata": {},
   "source": [
    "---\n",
    "\n",
    "### Tutorial"
   ]
  },
  {
   "cell_type": "code",
   "execution_count": 22,
   "metadata": {},
   "outputs": [
    {
     "data": {
      "text/html": [
       "<div>\n",
       "<style scoped>\n",
       "    .dataframe tbody tr th:only-of-type {\n",
       "        vertical-align: middle;\n",
       "    }\n",
       "\n",
       "    .dataframe tbody tr th {\n",
       "        vertical-align: top;\n",
       "    }\n",
       "\n",
       "    .dataframe thead th {\n",
       "        text-align: right;\n",
       "    }\n",
       "</style>\n",
       "<table border=\"1\" class=\"dataframe\">\n",
       "  <thead>\n",
       "    <tr style=\"text-align: right;\">\n",
       "      <th></th>\n",
       "      <th>text</th>\n",
       "      <th>tweet_unique_id</th>\n",
       "      <th>author_handle</th>\n",
       "      <th>author_id</th>\n",
       "      <th>author_verified</th>\n",
       "      <th>num_followers</th>\n",
       "      <th>num_following</th>\n",
       "      <th>minute</th>\n",
       "    </tr>\n",
       "    <tr>\n",
       "      <th>date_tweeted</th>\n",
       "      <th></th>\n",
       "      <th></th>\n",
       "      <th></th>\n",
       "      <th></th>\n",
       "      <th></th>\n",
       "      <th></th>\n",
       "      <th></th>\n",
       "      <th></th>\n",
       "    </tr>\n",
       "  </thead>\n",
       "  <tbody>\n",
       "    <tr>\n",
       "      <th>2019-07-31 20:13:40-04:00</th>\n",
       "      <td>RT @HedgeMind: $TWLO's hype growth continues, ...</td>\n",
       "      <td>1156719610433015808</td>\n",
       "      <td>AshwinMaddi</td>\n",
       "      <td>57757815</td>\n",
       "      <td>False</td>\n",
       "      <td>191</td>\n",
       "      <td>548</td>\n",
       "      <td>2019-07-31 20:14:00-04:00</td>\n",
       "    </tr>\n",
       "    <tr>\n",
       "      <th>2019-07-31 20:15:08-04:00</th>\n",
       "      <td>Blog Post: \"Burn It to the Ground\"\\n\\nhttps://...</td>\n",
       "      <td>1156719981083729923</td>\n",
       "      <td>JohnBonini</td>\n",
       "      <td>23892061</td>\n",
       "      <td>False</td>\n",
       "      <td>390</td>\n",
       "      <td>688</td>\n",
       "      <td>2019-07-31 20:15:00-04:00</td>\n",
       "    </tr>\n",
       "  </tbody>\n",
       "</table>\n",
       "</div>"
      ],
      "text/plain": [
       "                                                                        text  \\\n",
       "date_tweeted                                                                   \n",
       "2019-07-31 20:13:40-04:00  RT @HedgeMind: $TWLO's hype growth continues, ...   \n",
       "2019-07-31 20:15:08-04:00  Blog Post: \"Burn It to the Ground\"\\n\\nhttps://...   \n",
       "\n",
       "                               tweet_unique_id author_handle  author_id  \\\n",
       "date_tweeted                                                              \n",
       "2019-07-31 20:13:40-04:00  1156719610433015808   AshwinMaddi   57757815   \n",
       "2019-07-31 20:15:08-04:00  1156719981083729923    JohnBonini   23892061   \n",
       "\n",
       "                           author_verified  num_followers  num_following  \\\n",
       "date_tweeted                                                               \n",
       "2019-07-31 20:13:40-04:00            False            191            548   \n",
       "2019-07-31 20:15:08-04:00            False            390            688   \n",
       "\n",
       "                                             minute  \n",
       "date_tweeted                                         \n",
       "2019-07-31 20:13:40-04:00 2019-07-31 20:14:00-04:00  \n",
       "2019-07-31 20:15:08-04:00 2019-07-31 20:15:00-04:00  "
      ]
     },
     "execution_count": 22,
     "metadata": {},
     "output_type": "execute_result"
    }
   ],
   "source": [
    "# Let's add a column called `minute`, which will be the `date_tweeted` column rounded to the nearest minute:\n",
    "\n",
    "tweets['minute'] = tweets.index.round(freq='1T')\n",
    "tweets.head(2)"
   ]
  },
  {
   "cell_type": "code",
   "execution_count": 23,
   "metadata": {},
   "outputs": [
    {
     "data": {
      "text/html": [
       "<div>\n",
       "<style scoped>\n",
       "    .dataframe tbody tr th:only-of-type {\n",
       "        vertical-align: middle;\n",
       "    }\n",
       "\n",
       "    .dataframe tbody tr th {\n",
       "        vertical-align: top;\n",
       "    }\n",
       "\n",
       "    .dataframe thead th {\n",
       "        text-align: right;\n",
       "    }\n",
       "</style>\n",
       "<table border=\"1\" class=\"dataframe\">\n",
       "  <thead>\n",
       "    <tr style=\"text-align: right;\">\n",
       "      <th></th>\n",
       "      <th>num_followers</th>\n",
       "      <th>tweet_unique_id</th>\n",
       "    </tr>\n",
       "    <tr>\n",
       "      <th>minute</th>\n",
       "      <th></th>\n",
       "      <th></th>\n",
       "    </tr>\n",
       "  </thead>\n",
       "  <tbody>\n",
       "    <tr>\n",
       "      <th>2019-07-31 20:14:00-04:00</th>\n",
       "      <td>191</td>\n",
       "      <td>1</td>\n",
       "    </tr>\n",
       "    <tr>\n",
       "      <th>2019-07-31 20:15:00-04:00</th>\n",
       "      <td>390</td>\n",
       "      <td>1</td>\n",
       "    </tr>\n",
       "    <tr>\n",
       "      <th>2019-07-31 20:21:00-04:00</th>\n",
       "      <td>597</td>\n",
       "      <td>1</td>\n",
       "    </tr>\n",
       "    <tr>\n",
       "      <th>2019-07-31 20:44:00-04:00</th>\n",
       "      <td>1437</td>\n",
       "      <td>1</td>\n",
       "    </tr>\n",
       "    <tr>\n",
       "      <th>2019-07-31 20:46:00-04:00</th>\n",
       "      <td>1344</td>\n",
       "      <td>1</td>\n",
       "    </tr>\n",
       "  </tbody>\n",
       "</table>\n",
       "</div>"
      ],
      "text/plain": [
       "                           num_followers  tweet_unique_id\n",
       "minute                                                   \n",
       "2019-07-31 20:14:00-04:00            191                1\n",
       "2019-07-31 20:15:00-04:00            390                1\n",
       "2019-07-31 20:21:00-04:00            597                1\n",
       "2019-07-31 20:44:00-04:00           1437                1\n",
       "2019-07-31 20:46:00-04:00           1344                1"
      ]
     },
     "execution_count": 23,
     "metadata": {},
     "output_type": "execute_result"
    }
   ],
   "source": [
    "# Now we'll reate a DataFrame that groups the \"tweets\" DataFrame by the minute, then counts the number of tweets, \n",
    "# and sums the number of people (collectively) who were the audience for tweets at that minute!\n",
    "\n",
    "tweet_count_by_minute = tweets.groupby('minute').agg({'num_followers': 'sum', 'tweet_unique_id': 'count'})\n",
    "\n",
    "tweet_count_by_minute.head()"
   ]
  },
  {
   "cell_type": "markdown",
   "metadata": {},
   "source": [
    "---\n",
    "\n",
    "## Question 8\n",
    "\n",
    "- **Part 1** - Merge the `tweet_count_by_minute` DataFrame into our working data using `pandas.merge`, [making sure to fill any missing data with a 0](https://pandas.pydata.org/pandas-docs/stable/reference/api/pandas.DataFrame.fillna.html).\n",
    "\n",
    "- **Part 2** - Next, [use pandas.shift](https://pandas.pydata.org/pandas-docs/stable/reference/api/pandas.DataFrame.shift.html) to add a new column called `price_change_in_two_hours`, which should return the closing price 120 minutes from the given row."
   ]
  },
  {
   "cell_type": "code",
   "execution_count": 24,
   "metadata": {},
   "outputs": [],
   "source": [
    "# Now you try!\n",
    "# Enter your solution for Q8, Part 1"
   ]
  },
  {
   "cell_type": "code",
   "execution_count": 25,
   "metadata": {},
   "outputs": [],
   "source": [
    "# Now you try!\n",
    "# Enter your solution for Q8, Part 2"
   ]
  },
  {
   "cell_type": "markdown",
   "metadata": {},
   "source": [
    "---\n",
    "\n",
    "## Question 9\n",
    "\n",
    "Now let's add a column to `data` called `will_go_up_in_two_hours_category` that should be either: \n",
    "- `Bearish` (if `will_go_up_in_two_hours_category < 0`) or \n",
    "- `Bullish` (if `will_go_up_in_two_hours_category > 0`)\n",
    "\n",
    "\n",
    "When you're done, the value counts of the column should read:\n",
    "\n",
    "```\n",
    "\n",
    ">>> data['will_go_up_in_two_hours_category'].value_counts()\n",
    "\n",
    "Bearish    2868\n",
    "Bullish    2790\n",
    "Name: will_go_up_in_two_hours_category, dtype: int64\n",
    "\n",
    "```"
   ]
  },
  {
   "cell_type": "code",
   "execution_count": 4,
   "metadata": {},
   "outputs": [],
   "source": [
    "# Solution for Q9 (note: there are many different ways to do this!)\n"
   ]
  },
  {
   "cell_type": "markdown",
   "metadata": {},
   "source": [
    "---\n",
    "\n",
    "## Question 10\n",
    "\n",
    "Create the following columns and add them to the `data` DataFrame:\n",
    "\n",
    "1. `feature__30_min_rolling_close` - 30 min rolling mean for close\n",
    "2. `feature__60_min_rolling_close` - 60 min rolling mean for close\n",
    "3. `feature__60_min_rolling_volume` - 60 min rolling mean for volume\n",
    "4. `feature__60_min_rolling_tweet_followers` - 60 min rolling mean for `num_followers`\n",
    "5. `feature__60_min_rolling_tweets_count` - 60 min rolling mean for `tweet_unique_id`\n",
    "\n",
    "Remember, our goal is to use these signals to predict the movement of the stock price at every given minute!"
   ]
  },
  {
   "cell_type": "code",
   "execution_count": 32,
   "metadata": {},
   "outputs": [],
   "source": [
    "# Now you try!\n",
    "# Enter your solution for Q10"
   ]
  },
  {
   "cell_type": "markdown",
   "metadata": {},
   "source": [
    "---\n",
    "\n",
    "### Tutorial"
   ]
  },
  {
   "cell_type": "code",
   "execution_count": 34,
   "metadata": {},
   "outputs": [
    {
     "data": {
      "text/html": [
       "<div>\n",
       "<style scoped>\n",
       "    .dataframe tbody tr th:only-of-type {\n",
       "        vertical-align: middle;\n",
       "    }\n",
       "\n",
       "    .dataframe tbody tr th {\n",
       "        vertical-align: top;\n",
       "    }\n",
       "\n",
       "    .dataframe thead th {\n",
       "        text-align: right;\n",
       "    }\n",
       "</style>\n",
       "<table border=\"1\" class=\"dataframe\">\n",
       "  <thead>\n",
       "    <tr style=\"text-align: right;\">\n",
       "      <th></th>\n",
       "      <th>close</th>\n",
       "      <th>high</th>\n",
       "      <th>low</th>\n",
       "      <th>open</th>\n",
       "      <th>volume</th>\n",
       "      <th>num_followers</th>\n",
       "      <th>tweet_unique_id</th>\n",
       "      <th>price_change_in_two_hours</th>\n",
       "      <th>will_go_up_in_two_hours_category</th>\n",
       "      <th>feature__30_min_rolling_close</th>\n",
       "      <th>feature__60_min_rolling_close</th>\n",
       "      <th>feature__60_min_rolling_volume</th>\n",
       "      <th>feature__60_min_rolling_tweet_followers</th>\n",
       "      <th>feature__60_min_rolling_tweets_count</th>\n",
       "    </tr>\n",
       "    <tr>\n",
       "      <th>date</th>\n",
       "      <th></th>\n",
       "      <th></th>\n",
       "      <th></th>\n",
       "      <th></th>\n",
       "      <th></th>\n",
       "      <th></th>\n",
       "      <th></th>\n",
       "      <th></th>\n",
       "      <th></th>\n",
       "      <th></th>\n",
       "      <th></th>\n",
       "      <th></th>\n",
       "      <th></th>\n",
       "      <th></th>\n",
       "    </tr>\n",
       "  </thead>\n",
       "  <tbody>\n",
       "    <tr>\n",
       "      <th>2019-08-01 10:30:00-04:00</th>\n",
       "      <td>139.899994</td>\n",
       "      <td>140.490005</td>\n",
       "      <td>139.690002</td>\n",
       "      <td>140.380005</td>\n",
       "      <td>59803.0</td>\n",
       "      <td>0.0</td>\n",
       "      <td>0.0</td>\n",
       "      <td>3.009903</td>\n",
       "      <td>Bullish</td>\n",
       "      <td>137.881154</td>\n",
       "      <td>138.144339</td>\n",
       "      <td>35869.900000</td>\n",
       "      <td>14810.333333</td>\n",
       "      <td>38.0</td>\n",
       "    </tr>\n",
       "    <tr>\n",
       "      <th>2019-08-01 12:30:00-04:00</th>\n",
       "      <td>142.909897</td>\n",
       "      <td>142.909897</td>\n",
       "      <td>142.664993</td>\n",
       "      <td>142.664993</td>\n",
       "      <td>6050.0</td>\n",
       "      <td>0.0</td>\n",
       "      <td>0.0</td>\n",
       "      <td>-5.409790</td>\n",
       "      <td>Bearish</td>\n",
       "      <td>142.303178</td>\n",
       "      <td>142.602729</td>\n",
       "      <td>12391.633333</td>\n",
       "      <td>5207.733333</td>\n",
       "      <td>19.0</td>\n",
       "    </tr>\n",
       "    <tr>\n",
       "      <th>2019-08-02 10:30:00-04:00</th>\n",
       "      <td>135.009995</td>\n",
       "      <td>135.294601</td>\n",
       "      <td>135.000000</td>\n",
       "      <td>135.294601</td>\n",
       "      <td>7083.0</td>\n",
       "      <td>0.0</td>\n",
       "      <td>0.0</td>\n",
       "      <td>-0.939987</td>\n",
       "      <td>Bearish</td>\n",
       "      <td>135.645647</td>\n",
       "      <td>135.462765</td>\n",
       "      <td>12487.433333</td>\n",
       "      <td>57.416667</td>\n",
       "      <td>4.0</td>\n",
       "    </tr>\n",
       "    <tr>\n",
       "      <th>2019-08-02 12:30:00-04:00</th>\n",
       "      <td>134.070007</td>\n",
       "      <td>134.070007</td>\n",
       "      <td>134.005798</td>\n",
       "      <td>134.035202</td>\n",
       "      <td>3844.0</td>\n",
       "      <td>0.0</td>\n",
       "      <td>0.0</td>\n",
       "      <td>-1.110001</td>\n",
       "      <td>Bearish</td>\n",
       "      <td>133.664000</td>\n",
       "      <td>133.997130</td>\n",
       "      <td>9495.833333</td>\n",
       "      <td>0.000000</td>\n",
       "      <td>0.0</td>\n",
       "    </tr>\n",
       "    <tr>\n",
       "      <th>2019-08-05 10:30:00-04:00</th>\n",
       "      <td>123.716003</td>\n",
       "      <td>123.769997</td>\n",
       "      <td>123.459999</td>\n",
       "      <td>123.769997</td>\n",
       "      <td>19254.0</td>\n",
       "      <td>0.0</td>\n",
       "      <td>0.0</td>\n",
       "      <td>0.605400</td>\n",
       "      <td>Bullish</td>\n",
       "      <td>124.556061</td>\n",
       "      <td>124.602685</td>\n",
       "      <td>32691.366667</td>\n",
       "      <td>746.033333</td>\n",
       "      <td>23.0</td>\n",
       "    </tr>\n",
       "  </tbody>\n",
       "</table>\n",
       "</div>"
      ],
      "text/plain": [
       "                                close        high         low        open  \\\n",
       "date                                                                        \n",
       "2019-08-01 10:30:00-04:00  139.899994  140.490005  139.690002  140.380005   \n",
       "2019-08-01 12:30:00-04:00  142.909897  142.909897  142.664993  142.664993   \n",
       "2019-08-02 10:30:00-04:00  135.009995  135.294601  135.000000  135.294601   \n",
       "2019-08-02 12:30:00-04:00  134.070007  134.070007  134.005798  134.035202   \n",
       "2019-08-05 10:30:00-04:00  123.716003  123.769997  123.459999  123.769997   \n",
       "\n",
       "                            volume  num_followers  tweet_unique_id  \\\n",
       "date                                                                 \n",
       "2019-08-01 10:30:00-04:00  59803.0            0.0              0.0   \n",
       "2019-08-01 12:30:00-04:00   6050.0            0.0              0.0   \n",
       "2019-08-02 10:30:00-04:00   7083.0            0.0              0.0   \n",
       "2019-08-02 12:30:00-04:00   3844.0            0.0              0.0   \n",
       "2019-08-05 10:30:00-04:00  19254.0            0.0              0.0   \n",
       "\n",
       "                           price_change_in_two_hours  \\\n",
       "date                                                   \n",
       "2019-08-01 10:30:00-04:00                   3.009903   \n",
       "2019-08-01 12:30:00-04:00                  -5.409790   \n",
       "2019-08-02 10:30:00-04:00                  -0.939987   \n",
       "2019-08-02 12:30:00-04:00                  -1.110001   \n",
       "2019-08-05 10:30:00-04:00                   0.605400   \n",
       "\n",
       "                          will_go_up_in_two_hours_category  \\\n",
       "date                                                         \n",
       "2019-08-01 10:30:00-04:00                          Bullish   \n",
       "2019-08-01 12:30:00-04:00                          Bearish   \n",
       "2019-08-02 10:30:00-04:00                          Bearish   \n",
       "2019-08-02 12:30:00-04:00                          Bearish   \n",
       "2019-08-05 10:30:00-04:00                          Bullish   \n",
       "\n",
       "                           feature__30_min_rolling_close  \\\n",
       "date                                                       \n",
       "2019-08-01 10:30:00-04:00                     137.881154   \n",
       "2019-08-01 12:30:00-04:00                     142.303178   \n",
       "2019-08-02 10:30:00-04:00                     135.645647   \n",
       "2019-08-02 12:30:00-04:00                     133.664000   \n",
       "2019-08-05 10:30:00-04:00                     124.556061   \n",
       "\n",
       "                           feature__60_min_rolling_close  \\\n",
       "date                                                       \n",
       "2019-08-01 10:30:00-04:00                     138.144339   \n",
       "2019-08-01 12:30:00-04:00                     142.602729   \n",
       "2019-08-02 10:30:00-04:00                     135.462765   \n",
       "2019-08-02 12:30:00-04:00                     133.997130   \n",
       "2019-08-05 10:30:00-04:00                     124.602685   \n",
       "\n",
       "                           feature__60_min_rolling_volume  \\\n",
       "date                                                        \n",
       "2019-08-01 10:30:00-04:00                    35869.900000   \n",
       "2019-08-01 12:30:00-04:00                    12391.633333   \n",
       "2019-08-02 10:30:00-04:00                    12487.433333   \n",
       "2019-08-02 12:30:00-04:00                     9495.833333   \n",
       "2019-08-05 10:30:00-04:00                    32691.366667   \n",
       "\n",
       "                           feature__60_min_rolling_tweet_followers  \\\n",
       "date                                                                 \n",
       "2019-08-01 10:30:00-04:00                             14810.333333   \n",
       "2019-08-01 12:30:00-04:00                              5207.733333   \n",
       "2019-08-02 10:30:00-04:00                                57.416667   \n",
       "2019-08-02 12:30:00-04:00                                 0.000000   \n",
       "2019-08-05 10:30:00-04:00                               746.033333   \n",
       "\n",
       "                           feature__60_min_rolling_tweets_count  \n",
       "date                                                             \n",
       "2019-08-01 10:30:00-04:00                                  38.0  \n",
       "2019-08-01 12:30:00-04:00                                  19.0  \n",
       "2019-08-02 10:30:00-04:00                                   4.0  \n",
       "2019-08-02 12:30:00-04:00                                   0.0  \n",
       "2019-08-05 10:30:00-04:00                                  23.0  "
      ]
     },
     "execution_count": 34,
     "metadata": {},
     "output_type": "execute_result"
    }
   ],
   "source": [
    "# Create a new DataFrame called `prediction_df` that only selects rows with even hours or at the 30 minute mark:\n",
    "prediction_df = data[(data.index.minute == 30) & (data.index.hour % 2 == 0)].copy()\n",
    "\n",
    "# Remove rows with missing values:\n",
    "prediction_df.dropna(inplace=True)\n",
    "\n",
    "# Show the first five rows:\n",
    "prediction_df.head()"
   ]
  },
  {
   "cell_type": "markdown",
   "metadata": {},
   "source": [
    "---\n",
    "\n",
    "## Question 11\n",
    "\n",
    "Now, create two new DataFrames, `training` and `testing` where:\n",
    "\n",
    "1. `training` is every row in `prediction_df` with dates before 8/20/2019\n",
    "1. `testing` is every row in `prediction_df` with dates on or after 8/20/2019\n",
    "\n",
    "Our goal is to investigate how our signals interact with our prediction column (e.g. \"Bullish vs Bearish\") on the DataFrame `training`. We want to see if those hypotheses pan out for our testing set. This will test our algorithms' ability to work on data it hasn't seen before!"
   ]
  },
  {
   "cell_type": "code",
   "execution_count": 35,
   "metadata": {},
   "outputs": [],
   "source": [
    "# Now you try!\n",
    "# Enter your solution for Q11"
   ]
  },
  {
   "cell_type": "markdown",
   "metadata": {},
   "source": [
    "---\n",
    "\n",
    "### Tutorial"
   ]
  },
  {
   "cell_type": "code",
   "execution_count": 37,
   "metadata": {},
   "outputs": [
    {
     "data": {
      "text/plain": [
       "feature__30_min_rolling_close             -0.262944\n",
       "feature__60_min_rolling_close             -0.266051\n",
       "feature__60_min_rolling_volume             0.141402\n",
       "feature__60_min_rolling_tweet_followers    0.136331\n",
       "feature__60_min_rolling_tweets_count       0.106226\n",
       "Name: price_change_in_two_hours, dtype: float64"
      ]
     },
     "execution_count": 37,
     "metadata": {},
     "output_type": "execute_result"
    }
   ],
   "source": [
    "# Let's see which of our potential signals correlate to the column `price_change_in_two_hours`.\n",
    "\n",
    "# We'll use `pandas.filter` (https://pandas.pydata.org/pandas-docs/stable/reference/api/pandas.DataFrame.filter.html)\n",
    "# to limit our selections only to the specific columns with the word \"feature\" in them:\n",
    "training.corr()['price_change_in_two_hours'].filter(regex='feature')"
   ]
  },
  {
   "cell_type": "code",
   "execution_count": 50,
   "metadata": {},
   "outputs": [],
   "source": [
    "# Interesting, `feature__60_min_rolling_close` and `feature__60_min_rolling_volume` seem to be very correlated!\n",
    "\n",
    "# Let's further isolate the training data into two different DataFrames; \n",
    "# one for \"bullish\" training points and another for \"bearish\" training points:\n",
    "\n",
    "bullish = training[training['will_go_up_in_two_hours_category'] == 'Bullish'] \n",
    "bearish = training[training['will_go_up_in_two_hours_category'] == 'Bearish'] \n"
   ]
  },
  {
   "cell_type": "markdown",
   "metadata": {},
   "source": [
    "---\n",
    "\n",
    "## Question 12\n",
    "\n",
    "Use Matplotlib to create two scatter plots in the same figure, where:\n",
    "\n",
    "1. The x axis is the `feature__60_min_rolling_close` column of \"bullish/bearish\" and the y axis is `feature__60_min_rolling_volume`.\n",
    "2. Color the bullish points **green** and the bearish points **red**.\n",
    "3. Size the dots so that the larger they are, the more the price moved (i.e. large red dots means large price drop and vice versa).\n",
    "3. Include a title and legend!\n",
    "\n",
    "> Hint: For help creating legends, [check out Matplotlib's documentation](https://matplotlib.org/3.1.1/tutorials/intermediate/legend_guide.html)."
   ]
  },
  {
   "cell_type": "code",
   "execution_count": 39,
   "metadata": {},
   "outputs": [],
   "source": [
    "# Now you try!\n",
    "# Enter your solution for Q12"
   ]
  }
 ],
 "metadata": {
  "kernelspec": {
   "display_name": "Python 3",
   "language": "python",
   "name": "python3"
  },
  "language_info": {
   "codemirror_mode": {
    "name": "ipython",
    "version": 3
   },
   "file_extension": ".py",
   "mimetype": "text/x-python",
   "name": "python",
   "nbconvert_exporter": "python",
   "pygments_lexer": "ipython3",
   "version": "3.8.3"
  }
 },
 "nbformat": 4,
 "nbformat_minor": 2
}
